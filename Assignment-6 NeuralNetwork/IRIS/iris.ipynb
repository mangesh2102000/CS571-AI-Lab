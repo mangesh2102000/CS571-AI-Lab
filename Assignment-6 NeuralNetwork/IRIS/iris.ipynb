{
 "cells": [
  {
   "cell_type": "code",
   "execution_count": 1,
   "metadata": {
    "_cell_guid": "b1076dfc-b9ad-4769-8c92-a6c4dae69d19",
    "_uuid": "8f2839f25d086af736a60e9eeb907d3b93b6e0e5",
    "execution": {
     "iopub.execute_input": "2021-11-08T06:27:08.590608Z",
     "iopub.status.busy": "2021-11-08T06:27:08.590296Z",
     "iopub.status.idle": "2021-11-08T06:27:09.104699Z",
     "shell.execute_reply": "2021-11-08T06:27:09.103313Z",
     "shell.execute_reply.started": "2021-11-08T06:27:08.590559Z"
    }
   },
   "outputs": [
    {
     "name": "stdout",
     "output_type": "stream",
     "text": [
      "./iris.data.csv\n",
      "./iris.ipynb\n",
      "./.ipynb_checkpoints\\iris-checkpoint.ipynb\n"
     ]
    }
   ],
   "source": [
    "import numpy as np\n",
    "import pandas as pd\n",
    "\n",
    "import os\n",
    "for dirname, _, filenames in os.walk('./'):\n",
    "    for filename in filenames:\n",
    "        print(os.path.join(dirname, filename))\n"
   ]
  },
  {
   "cell_type": "code",
   "execution_count": 2,
   "metadata": {
    "execution": {
     "iopub.execute_input": "2021-11-08T06:27:20.183131Z",
     "iopub.status.busy": "2021-11-08T06:27:20.182836Z",
     "iopub.status.idle": "2021-11-08T06:27:23.579143Z",
     "shell.execute_reply": "2021-11-08T06:27:23.578456Z",
     "shell.execute_reply.started": "2021-11-08T06:27:20.183082Z"
    }
   },
   "outputs": [
    {
     "data": {
      "text/html": [
       "<div>\n",
       "<style scoped>\n",
       "    .dataframe tbody tr th:only-of-type {\n",
       "        vertical-align: middle;\n",
       "    }\n",
       "\n",
       "    .dataframe tbody tr th {\n",
       "        vertical-align: top;\n",
       "    }\n",
       "\n",
       "    .dataframe thead th {\n",
       "        text-align: right;\n",
       "    }\n",
       "</style>\n",
       "<table border=\"1\" class=\"dataframe\">\n",
       "  <thead>\n",
       "    <tr style=\"text-align: right;\">\n",
       "      <th></th>\n",
       "      <th>0</th>\n",
       "      <th>1</th>\n",
       "      <th>2</th>\n",
       "      <th>3</th>\n",
       "      <th>4</th>\n",
       "    </tr>\n",
       "  </thead>\n",
       "  <tbody>\n",
       "    <tr>\n",
       "      <th>0</th>\n",
       "      <td>5.1</td>\n",
       "      <td>3.5</td>\n",
       "      <td>1.4</td>\n",
       "      <td>0.2</td>\n",
       "      <td>Iris-setosa</td>\n",
       "    </tr>\n",
       "    <tr>\n",
       "      <th>1</th>\n",
       "      <td>4.9</td>\n",
       "      <td>3.0</td>\n",
       "      <td>1.4</td>\n",
       "      <td>0.2</td>\n",
       "      <td>Iris-setosa</td>\n",
       "    </tr>\n",
       "    <tr>\n",
       "      <th>2</th>\n",
       "      <td>4.7</td>\n",
       "      <td>3.2</td>\n",
       "      <td>1.3</td>\n",
       "      <td>0.2</td>\n",
       "      <td>Iris-setosa</td>\n",
       "    </tr>\n",
       "    <tr>\n",
       "      <th>3</th>\n",
       "      <td>4.6</td>\n",
       "      <td>3.1</td>\n",
       "      <td>1.5</td>\n",
       "      <td>0.2</td>\n",
       "      <td>Iris-setosa</td>\n",
       "    </tr>\n",
       "    <tr>\n",
       "      <th>4</th>\n",
       "      <td>5.0</td>\n",
       "      <td>3.6</td>\n",
       "      <td>1.4</td>\n",
       "      <td>0.2</td>\n",
       "      <td>Iris-setosa</td>\n",
       "    </tr>\n",
       "  </tbody>\n",
       "</table>\n",
       "</div>"
      ],
      "text/plain": [
       "     0    1    2    3            4\n",
       "0  5.1  3.5  1.4  0.2  Iris-setosa\n",
       "1  4.9  3.0  1.4  0.2  Iris-setosa\n",
       "2  4.7  3.2  1.3  0.2  Iris-setosa\n",
       "3  4.6  3.1  1.5  0.2  Iris-setosa\n",
       "4  5.0  3.6  1.4  0.2  Iris-setosa"
      ]
     },
     "execution_count": 2,
     "metadata": {},
     "output_type": "execute_result"
    }
   ],
   "source": [
    "train_df = pd.read_csv('./iris.data.csv', header = None)\n",
    "train_df.head()"
   ]
  },
  {
   "cell_type": "code",
   "execution_count": 3,
   "metadata": {
    "execution": {
     "iopub.execute_input": "2021-11-08T06:27:36.449513Z",
     "iopub.status.busy": "2021-11-08T06:27:36.449069Z",
     "iopub.status.idle": "2021-11-08T06:27:36.456279Z",
     "shell.execute_reply": "2021-11-08T06:27:36.455429Z",
     "shell.execute_reply.started": "2021-11-08T06:27:36.449341Z"
    }
   },
   "outputs": [
    {
     "data": {
      "text/plain": [
       "(150, 5)"
      ]
     },
     "execution_count": 3,
     "metadata": {},
     "output_type": "execute_result"
    }
   ],
   "source": [
    "train_df.shape"
   ]
  },
  {
   "cell_type": "code",
   "execution_count": 4,
   "metadata": {
    "execution": {
     "iopub.execute_input": "2021-11-08T06:27:48.245145Z",
     "iopub.status.busy": "2021-11-08T06:27:48.244856Z",
     "iopub.status.idle": "2021-11-08T06:27:48.330256Z",
     "shell.execute_reply": "2021-11-08T06:27:48.329556Z",
     "shell.execute_reply.started": "2021-11-08T06:27:48.245098Z"
    }
   },
   "outputs": [],
   "source": [
    "X = train_df.drop([4], axis=1)\n",
    "y = train_df[4]"
   ]
  },
  {
   "cell_type": "code",
   "execution_count": 5,
   "metadata": {},
   "outputs": [
    {
     "name": "stdout",
     "output_type": "stream",
     "text": [
      "['Iris-virginica', 'Iris-setosa', 'Iris-versicolor']\n"
     ]
    }
   ],
   "source": [
    "class_labels = list(set(y))\n",
    "print(class_labels)"
   ]
  },
  {
   "cell_type": "code",
   "execution_count": 6,
   "metadata": {},
   "outputs": [
    {
     "data": {
      "text/plain": [
       "[1, 1, 1, 1, 1]"
      ]
     },
     "execution_count": 6,
     "metadata": {},
     "output_type": "execute_result"
    }
   ],
   "source": [
    "def encode_labels(samples):\n",
    "    res = []\n",
    "    for sample in samples:\n",
    "        for id, x in enumerate(class_labels):\n",
    "            if x == sample:\n",
    "                res.append(id)\n",
    "                break\n",
    "    return res\n",
    "y = encode_labels(y)\n",
    "y[:5]"
   ]
  },
  {
   "cell_type": "code",
   "execution_count": 7,
   "metadata": {
    "execution": {
     "iopub.execute_input": "2021-11-08T06:27:53.026521Z",
     "iopub.status.busy": "2021-11-08T06:27:53.026216Z",
     "iopub.status.idle": "2021-11-08T06:27:53.031302Z",
     "shell.execute_reply": "2021-11-08T06:27:53.030364Z",
     "shell.execute_reply.started": "2021-11-08T06:27:53.026474Z"
    }
   },
   "outputs": [
    {
     "data": {
      "text/plain": [
       "(150, 4)"
      ]
     },
     "execution_count": 7,
     "metadata": {},
     "output_type": "execute_result"
    }
   ],
   "source": [
    "X.shape"
   ]
  },
  {
   "cell_type": "code",
   "execution_count": 8,
   "metadata": {},
   "outputs": [
    {
     "data": {
      "text/plain": [
       "[1, 1, 1, 0, 0]"
      ]
     },
     "execution_count": 8,
     "metadata": {},
     "output_type": "execute_result"
    }
   ],
   "source": [
    "from sklearn.model_selection import train_test_split\n",
    "\n",
    "X_train, X_test, y_train, y_test = train_test_split(X,y,\n",
    "                                                    test_size=0.2,\n",
    "                                                   random_state=69) \n",
    "y_train[:5]"
   ]
  },
  {
   "cell_type": "code",
   "execution_count": null,
   "metadata": {
    "execution": {
     "iopub.execute_input": "2021-11-08T06:59:30.186977Z",
     "iopub.status.busy": "2021-11-08T06:59:30.186693Z",
     "iopub.status.idle": "2021-11-08T06:59:30.191491Z",
     "shell.execute_reply": "2021-11-08T06:59:30.190455Z",
     "shell.execute_reply.started": "2021-11-08T06:59:30.186929Z"
    }
   },
   "outputs": [],
   "source": [
    "from sklearn import metrics\n",
    "import matplotlib.pyplot as plt\n",
    "import numpy as np\n",
    "import tensorflow as tf"
   ]
  },
  {
   "cell_type": "code",
   "execution_count": null,
   "metadata": {
    "execution": {
     "iopub.execute_input": "2021-11-08T06:52:52.631730Z",
     "iopub.status.busy": "2021-11-08T06:52:52.631425Z",
     "iopub.status.idle": "2021-11-08T06:52:52.646796Z",
     "shell.execute_reply": "2021-11-08T06:52:52.646118Z",
     "shell.execute_reply.started": "2021-11-08T06:52:52.631681Z"
    }
   },
   "outputs": [],
   "source": [
    "y_train=tf.keras.utils.to_categorical(y_train,3)\n",
    "y_test=tf.keras.utils.to_categorical(y_test,3)"
   ]
  },
  {
   "cell_type": "code",
   "execution_count": null,
   "metadata": {
    "execution": {
     "iopub.execute_input": "2021-11-08T06:41:11.338245Z",
     "iopub.status.busy": "2021-11-08T06:41:11.337953Z",
     "iopub.status.idle": "2021-11-08T06:41:11.382875Z",
     "shell.execute_reply": "2021-11-08T06:41:11.382137Z",
     "shell.execute_reply.started": "2021-11-08T06:41:11.338197Z"
    }
   },
   "outputs": [],
   "source": [
    "input_size = 4\n",
    "output_size = 3\n",
    "\n",
    "model = tf.keras.Sequential([\n",
    "                            tf.keras.layers.InputLayer(input_shape=(4)),\n",
    "                            tf.keras.layers.Dense(4, activation='relu'),\n",
    "                            tf.keras.layers.Dense(4, activation='relu'),\n",
    "                            tf.keras.layers.Dense(3, activation='relu'),   \n",
    "                            tf.keras.layers.Dense(output_size, activation='softmax')   \n",
    "                            ])"
   ]
  },
  {
   "cell_type": "code",
   "execution_count": null,
   "metadata": {
    "execution": {
     "iopub.execute_input": "2021-11-08T06:41:16.433173Z",
     "iopub.status.busy": "2021-11-08T06:41:16.432872Z",
     "iopub.status.idle": "2021-11-08T06:41:16.442124Z",
     "shell.execute_reply": "2021-11-08T06:41:16.441049Z",
     "shell.execute_reply.started": "2021-11-08T06:41:16.433121Z"
    }
   },
   "outputs": [],
   "source": [
    "model.summary()"
   ]
  },
  {
   "cell_type": "code",
   "execution_count": null,
   "metadata": {
    "execution": {
     "iopub.execute_input": "2021-11-08T06:41:33.468289Z",
     "iopub.status.busy": "2021-11-08T06:41:33.468008Z",
     "iopub.status.idle": "2021-11-08T06:41:33.505746Z",
     "shell.execute_reply": "2021-11-08T06:41:33.505097Z",
     "shell.execute_reply.started": "2021-11-08T06:41:33.468242Z"
    }
   },
   "outputs": [],
   "source": [
    "model.compile(optimizer='adam', loss='categorical_crossentropy', metrics=['accuracy'])"
   ]
  },
  {
   "cell_type": "code",
   "execution_count": null,
   "metadata": {
    "execution": {
     "iopub.execute_input": "2021-11-08T06:41:46.802507Z",
     "iopub.status.busy": "2021-11-08T06:41:46.802162Z",
     "iopub.status.idle": "2021-11-08T06:42:08.796945Z",
     "shell.execute_reply": "2021-11-08T06:42:08.796275Z",
     "shell.execute_reply.started": "2021-11-08T06:41:46.802453Z"
    }
   },
   "outputs": [],
   "source": [
    "NUM_EPOCHS = 70\n",
    "\n",
    "model.fit(X_train,y_train, epochs = NUM_EPOCHS, validation_data=(X_test,y_test), verbose=2)"
   ]
  },
  {
   "cell_type": "code",
   "execution_count": null,
   "metadata": {
    "execution": {
     "iopub.execute_input": "2021-11-08T06:42:17.550423Z",
     "iopub.status.busy": "2021-11-08T06:42:17.550120Z",
     "iopub.status.idle": "2021-11-08T06:42:17.778754Z",
     "shell.execute_reply": "2021-11-08T06:42:17.778021Z",
     "shell.execute_reply.started": "2021-11-08T06:42:17.550373Z"
    }
   },
   "outputs": [],
   "source": [
    "y_predict = model.predict(X_test)"
   ]
  },
  {
   "cell_type": "code",
   "execution_count": null,
   "metadata": {
    "execution": {
     "iopub.execute_input": "2021-11-08T06:49:20.461512Z",
     "iopub.status.busy": "2021-11-08T06:49:20.461189Z",
     "iopub.status.idle": "2021-11-08T06:49:20.528245Z",
     "shell.execute_reply": "2021-11-08T06:49:20.527483Z",
     "shell.execute_reply.started": "2021-11-08T06:49:20.461461Z"
    }
   },
   "outputs": [],
   "source": [
    "y_pred = []\n",
    "for val in y_predict:\n",
    "    y_pred.append(np.argmax(val))\n",
    "# print(y_pred)    \n",
    "#convert 0 1 to 1 and 1 0 as 0\n",
    "accuracy = metrics.accuracy_score(np.argmax(y_test,axis = 1) ,y_pred)\n",
    "recall = metrics.recall_score(np.argmax(y_test,axis = 1) ,y_pred,average='macro')\n",
    "precision = metrics.precision_score(np.argmax(y_test,axis = 1) ,y_pred,average='macro')\n",
    "f1_score = metrics.f1_score(np.argmax(y_test,axis = 1) ,y_pred,average='macro')\n",
    "cm = metrics.confusion_matrix(np.argmax(y_test,axis = 1) ,y_pred)\n",
    "print(cm)\n",
    "print(\"Accuracy:\",accuracy)\n",
    "print(\"F1 score:\",f1_score)\n",
    "print(\"Recall:\",recall)\n",
    "print(\"Precision:\",precision)"
   ]
  },
  {
   "cell_type": "code",
   "execution_count": null,
   "metadata": {},
   "outputs": [],
   "source": []
  }
 ],
 "metadata": {
  "kernelspec": {
   "display_name": "Python 3 (ipykernel)",
   "language": "python",
   "name": "python3"
  },
  "language_info": {
   "codemirror_mode": {
    "name": "ipython",
    "version": 3
   },
   "file_extension": ".py",
   "mimetype": "text/x-python",
   "name": "python",
   "nbconvert_exporter": "python",
   "pygments_lexer": "ipython3",
   "version": "3.9.6"
  }
 },
 "nbformat": 4,
 "nbformat_minor": 4
}
