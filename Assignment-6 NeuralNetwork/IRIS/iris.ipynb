{
 "cells": [
  {
   "cell_type": "code",
   "execution_count": 18,
   "metadata": {
    "_cell_guid": "b1076dfc-b9ad-4769-8c92-a6c4dae69d19",
    "_uuid": "8f2839f25d086af736a60e9eeb907d3b93b6e0e5",
    "execution": {
     "iopub.execute_input": "2021-11-08T06:27:08.590608Z",
     "iopub.status.busy": "2021-11-08T06:27:08.590296Z",
     "iopub.status.idle": "2021-11-08T06:27:09.104699Z",
     "shell.execute_reply": "2021-11-08T06:27:09.103313Z",
     "shell.execute_reply.started": "2021-11-08T06:27:08.590559Z"
    }
   },
   "outputs": [
    {
     "name": "stdout",
     "output_type": "stream",
     "text": [
      "./iris.data.csv\n",
      "./iris.ipynb\n",
      "./.ipynb_checkpoints\\iris-checkpoint.ipynb\n"
     ]
    }
   ],
   "source": [
    "import numpy as np\n",
    "import pandas as pd\n",
    "\n",
    "import os\n",
    "for dirname, _, filenames in os.walk('./'):\n",
    "    for filename in filenames:\n",
    "        print(os.path.join(dirname, filename))\n"
   ]
  },
  {
   "cell_type": "code",
   "execution_count": 19,
   "metadata": {
    "execution": {
     "iopub.execute_input": "2021-11-08T06:27:20.183131Z",
     "iopub.status.busy": "2021-11-08T06:27:20.182836Z",
     "iopub.status.idle": "2021-11-08T06:27:23.579143Z",
     "shell.execute_reply": "2021-11-08T06:27:23.578456Z",
     "shell.execute_reply.started": "2021-11-08T06:27:20.183082Z"
    }
   },
   "outputs": [
    {
     "data": {
      "text/html": [
       "<div>\n",
       "<style scoped>\n",
       "    .dataframe tbody tr th:only-of-type {\n",
       "        vertical-align: middle;\n",
       "    }\n",
       "\n",
       "    .dataframe tbody tr th {\n",
       "        vertical-align: top;\n",
       "    }\n",
       "\n",
       "    .dataframe thead th {\n",
       "        text-align: right;\n",
       "    }\n",
       "</style>\n",
       "<table border=\"1\" class=\"dataframe\">\n",
       "  <thead>\n",
       "    <tr style=\"text-align: right;\">\n",
       "      <th></th>\n",
       "      <th>0</th>\n",
       "      <th>1</th>\n",
       "      <th>2</th>\n",
       "      <th>3</th>\n",
       "      <th>4</th>\n",
       "    </tr>\n",
       "  </thead>\n",
       "  <tbody>\n",
       "    <tr>\n",
       "      <th>0</th>\n",
       "      <td>5.1</td>\n",
       "      <td>3.5</td>\n",
       "      <td>1.4</td>\n",
       "      <td>0.2</td>\n",
       "      <td>Iris-setosa</td>\n",
       "    </tr>\n",
       "    <tr>\n",
       "      <th>1</th>\n",
       "      <td>4.9</td>\n",
       "      <td>3.0</td>\n",
       "      <td>1.4</td>\n",
       "      <td>0.2</td>\n",
       "      <td>Iris-setosa</td>\n",
       "    </tr>\n",
       "    <tr>\n",
       "      <th>2</th>\n",
       "      <td>4.7</td>\n",
       "      <td>3.2</td>\n",
       "      <td>1.3</td>\n",
       "      <td>0.2</td>\n",
       "      <td>Iris-setosa</td>\n",
       "    </tr>\n",
       "    <tr>\n",
       "      <th>3</th>\n",
       "      <td>4.6</td>\n",
       "      <td>3.1</td>\n",
       "      <td>1.5</td>\n",
       "      <td>0.2</td>\n",
       "      <td>Iris-setosa</td>\n",
       "    </tr>\n",
       "    <tr>\n",
       "      <th>4</th>\n",
       "      <td>5.0</td>\n",
       "      <td>3.6</td>\n",
       "      <td>1.4</td>\n",
       "      <td>0.2</td>\n",
       "      <td>Iris-setosa</td>\n",
       "    </tr>\n",
       "  </tbody>\n",
       "</table>\n",
       "</div>"
      ],
      "text/plain": [
       "     0    1    2    3            4\n",
       "0  5.1  3.5  1.4  0.2  Iris-setosa\n",
       "1  4.9  3.0  1.4  0.2  Iris-setosa\n",
       "2  4.7  3.2  1.3  0.2  Iris-setosa\n",
       "3  4.6  3.1  1.5  0.2  Iris-setosa\n",
       "4  5.0  3.6  1.4  0.2  Iris-setosa"
      ]
     },
     "execution_count": 19,
     "metadata": {},
     "output_type": "execute_result"
    }
   ],
   "source": [
    "train_df = pd.read_csv('./iris.data.csv', header = None)\n",
    "train_df.head()"
   ]
  },
  {
   "cell_type": "code",
   "execution_count": 20,
   "metadata": {
    "execution": {
     "iopub.execute_input": "2021-11-08T06:27:36.449513Z",
     "iopub.status.busy": "2021-11-08T06:27:36.449069Z",
     "iopub.status.idle": "2021-11-08T06:27:36.456279Z",
     "shell.execute_reply": "2021-11-08T06:27:36.455429Z",
     "shell.execute_reply.started": "2021-11-08T06:27:36.449341Z"
    }
   },
   "outputs": [
    {
     "data": {
      "text/plain": [
       "(150, 5)"
      ]
     },
     "execution_count": 20,
     "metadata": {},
     "output_type": "execute_result"
    }
   ],
   "source": [
    "train_df.shape"
   ]
  },
  {
   "cell_type": "code",
   "execution_count": 21,
   "metadata": {
    "execution": {
     "iopub.execute_input": "2021-11-08T06:27:48.245145Z",
     "iopub.status.busy": "2021-11-08T06:27:48.244856Z",
     "iopub.status.idle": "2021-11-08T06:27:48.330256Z",
     "shell.execute_reply": "2021-11-08T06:27:48.329556Z",
     "shell.execute_reply.started": "2021-11-08T06:27:48.245098Z"
    }
   },
   "outputs": [],
   "source": [
    "X = train_df.drop([4], axis=1)\n",
    "y = train_df[4]"
   ]
  },
  {
   "cell_type": "code",
   "execution_count": 22,
   "metadata": {},
   "outputs": [
    {
     "name": "stdout",
     "output_type": "stream",
     "text": [
      "['Iris-setosa', 'Iris-versicolor', 'Iris-virginica']\n"
     ]
    }
   ],
   "source": [
    "class_labels = list(set(y))\n",
    "print(class_labels)"
   ]
  },
  {
   "cell_type": "code",
   "execution_count": 23,
   "metadata": {},
   "outputs": [
    {
     "data": {
      "text/plain": [
       "[0, 0, 0, 0, 0]"
      ]
     },
     "execution_count": 23,
     "metadata": {},
     "output_type": "execute_result"
    }
   ],
   "source": [
    "def encode_labels(samples):\n",
    "    res = []\n",
    "    for sample in samples:\n",
    "        for id, x in enumerate(class_labels):\n",
    "            if x == sample:\n",
    "                res.append(id)\n",
    "                break\n",
    "    return res\n",
    "y = encode_labels(y)\n",
    "y[:5]"
   ]
  },
  {
   "cell_type": "code",
   "execution_count": 24,
   "metadata": {
    "execution": {
     "iopub.execute_input": "2021-11-08T06:27:53.026521Z",
     "iopub.status.busy": "2021-11-08T06:27:53.026216Z",
     "iopub.status.idle": "2021-11-08T06:27:53.031302Z",
     "shell.execute_reply": "2021-11-08T06:27:53.030364Z",
     "shell.execute_reply.started": "2021-11-08T06:27:53.026474Z"
    }
   },
   "outputs": [
    {
     "data": {
      "text/plain": [
       "(150, 4)"
      ]
     },
     "execution_count": 24,
     "metadata": {},
     "output_type": "execute_result"
    }
   ],
   "source": [
    "X.shape"
   ]
  },
  {
   "cell_type": "code",
   "execution_count": 25,
   "metadata": {},
   "outputs": [
    {
     "data": {
      "text/plain": [
       "[0, 0, 0, 2, 2]"
      ]
     },
     "execution_count": 25,
     "metadata": {},
     "output_type": "execute_result"
    }
   ],
   "source": [
    "from sklearn.model_selection import train_test_split\n",
    "\n",
    "X_train, X_test, y_train, y_test = train_test_split(X,y,\n",
    "                                                    test_size=0.2,\n",
    "                                                   random_state=69) \n",
    "y_train[:5]"
   ]
  },
  {
   "cell_type": "code",
   "execution_count": 26,
   "metadata": {
    "execution": {
     "iopub.execute_input": "2021-11-08T06:59:30.186977Z",
     "iopub.status.busy": "2021-11-08T06:59:30.186693Z",
     "iopub.status.idle": "2021-11-08T06:59:30.191491Z",
     "shell.execute_reply": "2021-11-08T06:59:30.190455Z",
     "shell.execute_reply.started": "2021-11-08T06:59:30.186929Z"
    }
   },
   "outputs": [],
   "source": [
    "from sklearn import metrics\n",
    "import matplotlib.pyplot as plt\n",
    "import numpy as np\n",
    "import tensorflow as tf"
   ]
  },
  {
   "cell_type": "code",
   "execution_count": 27,
   "metadata": {
    "execution": {
     "iopub.execute_input": "2021-11-08T06:52:52.631730Z",
     "iopub.status.busy": "2021-11-08T06:52:52.631425Z",
     "iopub.status.idle": "2021-11-08T06:52:52.646796Z",
     "shell.execute_reply": "2021-11-08T06:52:52.646118Z",
     "shell.execute_reply.started": "2021-11-08T06:52:52.631681Z"
    }
   },
   "outputs": [],
   "source": [
    "y_train=tf.keras.utils.to_categorical(y_train,3)\n",
    "y_test=tf.keras.utils.to_categorical(y_test,3)"
   ]
  },
  {
   "cell_type": "code",
   "execution_count": 28,
   "metadata": {
    "execution": {
     "iopub.execute_input": "2021-11-08T06:41:11.338245Z",
     "iopub.status.busy": "2021-11-08T06:41:11.337953Z",
     "iopub.status.idle": "2021-11-08T06:41:11.382875Z",
     "shell.execute_reply": "2021-11-08T06:41:11.382137Z",
     "shell.execute_reply.started": "2021-11-08T06:41:11.338197Z"
    }
   },
   "outputs": [],
   "source": [
    "input_size = 4\n",
    "output_size = 3\n",
    "\n",
    "model = tf.keras.Sequential([\n",
    "                            tf.keras.layers.InputLayer(input_shape=(4)),\n",
    "                            tf.keras.layers.Dense(4, activation='relu'),\n",
    "                            tf.keras.layers.Dense(4, activation='relu'),\n",
    "                            tf.keras.layers.Dense(3, activation='relu'),   \n",
    "                            tf.keras.layers.Dense(output_size, activation='softmax')   \n",
    "                            ])"
   ]
  },
  {
   "cell_type": "code",
   "execution_count": 29,
   "metadata": {
    "execution": {
     "iopub.execute_input": "2021-11-08T06:41:16.433173Z",
     "iopub.status.busy": "2021-11-08T06:41:16.432872Z",
     "iopub.status.idle": "2021-11-08T06:41:16.442124Z",
     "shell.execute_reply": "2021-11-08T06:41:16.441049Z",
     "shell.execute_reply.started": "2021-11-08T06:41:16.433121Z"
    }
   },
   "outputs": [
    {
     "name": "stdout",
     "output_type": "stream",
     "text": [
      "Model: \"sequential_1\"\n",
      "_________________________________________________________________\n",
      " Layer (type)                Output Shape              Param #   \n",
      "=================================================================\n",
      " dense_4 (Dense)             (None, 4)                 20        \n",
      "                                                                 \n",
      " dense_5 (Dense)             (None, 4)                 20        \n",
      "                                                                 \n",
      " dense_6 (Dense)             (None, 3)                 15        \n",
      "                                                                 \n",
      " dense_7 (Dense)             (None, 3)                 12        \n",
      "                                                                 \n",
      "=================================================================\n",
      "Total params: 67\n",
      "Trainable params: 67\n",
      "Non-trainable params: 0\n",
      "_________________________________________________________________\n"
     ]
    }
   ],
   "source": [
    "model.summary()"
   ]
  },
  {
   "cell_type": "code",
   "execution_count": 30,
   "metadata": {
    "execution": {
     "iopub.execute_input": "2021-11-08T06:41:33.468289Z",
     "iopub.status.busy": "2021-11-08T06:41:33.468008Z",
     "iopub.status.idle": "2021-11-08T06:41:33.505746Z",
     "shell.execute_reply": "2021-11-08T06:41:33.505097Z",
     "shell.execute_reply.started": "2021-11-08T06:41:33.468242Z"
    }
   },
   "outputs": [],
   "source": [
    "model.compile(optimizer='adam', loss='categorical_crossentropy', metrics=['accuracy'])"
   ]
  },
  {
   "cell_type": "code",
   "execution_count": 31,
   "metadata": {
    "execution": {
     "iopub.execute_input": "2021-11-08T06:41:46.802507Z",
     "iopub.status.busy": "2021-11-08T06:41:46.802162Z",
     "iopub.status.idle": "2021-11-08T06:42:08.796945Z",
     "shell.execute_reply": "2021-11-08T06:42:08.796275Z",
     "shell.execute_reply.started": "2021-11-08T06:41:46.802453Z"
    }
   },
   "outputs": [
    {
     "name": "stdout",
     "output_type": "stream",
     "text": [
      "Epoch 1/70\n",
      "4/4 - 1s - loss: 1.1010 - accuracy: 0.2250 - val_loss: 1.1000 - val_accuracy: 0.2667 - 649ms/epoch - 162ms/step\n",
      "Epoch 2/70\n",
      "4/4 - 0s - loss: 1.0993 - accuracy: 0.3000 - val_loss: 1.0994 - val_accuracy: 0.2667 - 33ms/epoch - 8ms/step\n",
      "Epoch 3/70\n",
      "4/4 - 0s - loss: 1.0988 - accuracy: 0.3417 - val_loss: 1.0992 - val_accuracy: 0.2667 - 32ms/epoch - 8ms/step\n",
      "Epoch 4/70\n",
      "4/4 - 0s - loss: 1.0984 - accuracy: 0.3417 - val_loss: 1.0992 - val_accuracy: 0.2667 - 33ms/epoch - 8ms/step\n",
      "Epoch 5/70\n",
      "4/4 - 0s - loss: 1.0982 - accuracy: 0.3500 - val_loss: 1.0990 - val_accuracy: 0.3000 - 32ms/epoch - 8ms/step\n",
      "Epoch 6/70\n",
      "4/4 - 0s - loss: 1.0981 - accuracy: 0.3500 - val_loss: 1.0987 - val_accuracy: 0.3000 - 33ms/epoch - 8ms/step\n",
      "Epoch 7/70\n",
      "4/4 - 0s - loss: 1.0978 - accuracy: 0.3667 - val_loss: 1.0983 - val_accuracy: 0.3000 - 31ms/epoch - 8ms/step\n",
      "Epoch 8/70\n",
      "4/4 - 0s - loss: 1.0974 - accuracy: 0.3667 - val_loss: 1.0978 - val_accuracy: 0.3000 - 32ms/epoch - 8ms/step\n",
      "Epoch 9/70\n",
      "4/4 - 0s - loss: 1.0962 - accuracy: 0.4250 - val_loss: 1.0959 - val_accuracy: 0.3667 - 33ms/epoch - 8ms/step\n",
      "Epoch 10/70\n",
      "4/4 - 0s - loss: 1.0933 - accuracy: 0.4750 - val_loss: 1.0897 - val_accuracy: 0.5333 - 33ms/epoch - 8ms/step\n",
      "Epoch 11/70\n",
      "4/4 - 0s - loss: 1.0881 - accuracy: 0.5333 - val_loss: 1.0805 - val_accuracy: 0.6000 - 32ms/epoch - 8ms/step\n",
      "Epoch 12/70\n",
      "4/4 - 0s - loss: 1.0804 - accuracy: 0.5750 - val_loss: 1.0709 - val_accuracy: 0.6000 - 32ms/epoch - 8ms/step\n",
      "Epoch 13/70\n",
      "4/4 - 0s - loss: 1.0707 - accuracy: 0.6250 - val_loss: 1.0602 - val_accuracy: 0.6000 - 32ms/epoch - 8ms/step\n",
      "Epoch 14/70\n",
      "4/4 - 0s - loss: 1.0606 - accuracy: 0.6417 - val_loss: 1.0489 - val_accuracy: 0.6000 - 33ms/epoch - 8ms/step\n",
      "Epoch 15/70\n",
      "4/4 - 0s - loss: 1.0481 - accuracy: 0.6500 - val_loss: 1.0368 - val_accuracy: 0.6000 - 31ms/epoch - 8ms/step\n",
      "Epoch 16/70\n",
      "4/4 - 0s - loss: 1.0357 - accuracy: 0.6667 - val_loss: 1.0243 - val_accuracy: 0.6000 - 39ms/epoch - 10ms/step\n",
      "Epoch 17/70\n",
      "4/4 - 0s - loss: 1.0231 - accuracy: 0.6667 - val_loss: 1.0114 - val_accuracy: 0.6000 - 35ms/epoch - 9ms/step\n",
      "Epoch 18/70\n",
      "4/4 - 0s - loss: 1.0103 - accuracy: 0.6750 - val_loss: 0.9991 - val_accuracy: 0.6000 - 34ms/epoch - 9ms/step\n",
      "Epoch 19/70\n",
      "4/4 - 0s - loss: 0.9960 - accuracy: 0.6833 - val_loss: 0.9862 - val_accuracy: 0.6000 - 32ms/epoch - 8ms/step\n",
      "Epoch 20/70\n",
      "4/4 - 0s - loss: 0.9837 - accuracy: 0.6833 - val_loss: 0.9728 - val_accuracy: 0.6000 - 32ms/epoch - 8ms/step\n",
      "Epoch 21/70\n",
      "4/4 - 0s - loss: 0.9703 - accuracy: 0.6833 - val_loss: 0.9594 - val_accuracy: 0.6000 - 32ms/epoch - 8ms/step\n",
      "Epoch 22/70\n",
      "4/4 - 0s - loss: 0.9553 - accuracy: 0.6833 - val_loss: 0.9460 - val_accuracy: 0.6000 - 32ms/epoch - 8ms/step\n",
      "Epoch 23/70\n",
      "4/4 - 0s - loss: 0.9417 - accuracy: 0.6833 - val_loss: 0.9326 - val_accuracy: 0.6000 - 34ms/epoch - 8ms/step\n",
      "Epoch 24/70\n",
      "4/4 - 0s - loss: 0.9279 - accuracy: 0.6833 - val_loss: 0.9194 - val_accuracy: 0.6000 - 34ms/epoch - 8ms/step\n",
      "Epoch 25/70\n",
      "4/4 - 0s - loss: 0.9145 - accuracy: 0.6833 - val_loss: 0.9064 - val_accuracy: 0.6000 - 32ms/epoch - 8ms/step\n",
      "Epoch 26/70\n",
      "4/4 - 0s - loss: 0.9002 - accuracy: 0.6833 - val_loss: 0.8936 - val_accuracy: 0.6000 - 34ms/epoch - 8ms/step\n",
      "Epoch 27/70\n",
      "4/4 - 0s - loss: 0.8879 - accuracy: 0.6833 - val_loss: 0.8806 - val_accuracy: 0.6000 - 33ms/epoch - 8ms/step\n",
      "Epoch 28/70\n",
      "4/4 - 0s - loss: 0.8750 - accuracy: 0.6667 - val_loss: 0.8686 - val_accuracy: 0.6000 - 32ms/epoch - 8ms/step\n",
      "Epoch 29/70\n",
      "4/4 - 0s - loss: 0.8646 - accuracy: 0.6583 - val_loss: 0.8574 - val_accuracy: 0.6000 - 31ms/epoch - 8ms/step\n",
      "Epoch 30/70\n",
      "4/4 - 0s - loss: 0.8535 - accuracy: 0.6583 - val_loss: 0.8478 - val_accuracy: 0.6000 - 32ms/epoch - 8ms/step\n",
      "Epoch 31/70\n",
      "4/4 - 0s - loss: 0.8444 - accuracy: 0.6583 - val_loss: 0.8385 - val_accuracy: 0.6000 - 31ms/epoch - 8ms/step\n",
      "Epoch 32/70\n",
      "4/4 - 0s - loss: 0.8363 - accuracy: 0.6250 - val_loss: 0.8297 - val_accuracy: 0.5667 - 34ms/epoch - 8ms/step\n",
      "Epoch 33/70\n",
      "4/4 - 0s - loss: 0.8285 - accuracy: 0.6167 - val_loss: 0.8224 - val_accuracy: 0.5667 - 34ms/epoch - 8ms/step\n",
      "Epoch 34/70\n",
      "4/4 - 0s - loss: 0.8217 - accuracy: 0.6000 - val_loss: 0.8153 - val_accuracy: 0.5667 - 32ms/epoch - 8ms/step\n",
      "Epoch 35/70\n",
      "4/4 - 0s - loss: 0.8147 - accuracy: 0.6000 - val_loss: 0.8089 - val_accuracy: 0.5667 - 31ms/epoch - 8ms/step\n",
      "Epoch 36/70\n",
      "4/4 - 0s - loss: 0.8083 - accuracy: 0.6000 - val_loss: 0.8025 - val_accuracy: 0.5667 - 34ms/epoch - 8ms/step\n",
      "Epoch 37/70\n",
      "4/4 - 0s - loss: 0.8019 - accuracy: 0.6000 - val_loss: 0.7966 - val_accuracy: 0.5667 - 32ms/epoch - 8ms/step\n",
      "Epoch 38/70\n",
      "4/4 - 0s - loss: 0.7957 - accuracy: 0.6000 - val_loss: 0.7909 - val_accuracy: 0.5667 - 33ms/epoch - 8ms/step\n",
      "Epoch 39/70\n",
      "4/4 - 0s - loss: 0.7897 - accuracy: 0.6000 - val_loss: 0.7851 - val_accuracy: 0.5667 - 32ms/epoch - 8ms/step\n",
      "Epoch 40/70\n",
      "4/4 - 0s - loss: 0.7834 - accuracy: 0.6083 - val_loss: 0.7797 - val_accuracy: 0.6000 - 34ms/epoch - 8ms/step\n",
      "Epoch 41/70\n",
      "4/4 - 0s - loss: 0.7775 - accuracy: 0.6333 - val_loss: 0.7746 - val_accuracy: 0.6000 - 34ms/epoch - 8ms/step\n",
      "Epoch 42/70\n",
      "4/4 - 0s - loss: 0.7718 - accuracy: 0.6500 - val_loss: 0.7696 - val_accuracy: 0.6000 - 36ms/epoch - 9ms/step\n",
      "Epoch 43/70\n",
      "4/4 - 0s - loss: 0.7659 - accuracy: 0.6583 - val_loss: 0.7645 - val_accuracy: 0.6000 - 41ms/epoch - 10ms/step\n",
      "Epoch 44/70\n",
      "4/4 - 0s - loss: 0.7605 - accuracy: 0.6583 - val_loss: 0.7594 - val_accuracy: 0.6000 - 38ms/epoch - 9ms/step\n",
      "Epoch 45/70\n",
      "4/4 - 0s - loss: 0.7549 - accuracy: 0.6667 - val_loss: 0.7545 - val_accuracy: 0.6000 - 36ms/epoch - 9ms/step\n",
      "Epoch 46/70\n",
      "4/4 - 0s - loss: 0.7496 - accuracy: 0.6667 - val_loss: 0.7499 - val_accuracy: 0.6000 - 37ms/epoch - 9ms/step\n",
      "Epoch 47/70\n",
      "4/4 - 0s - loss: 0.7443 - accuracy: 0.6667 - val_loss: 0.7453 - val_accuracy: 0.6000 - 38ms/epoch - 9ms/step\n",
      "Epoch 48/70\n",
      "4/4 - 0s - loss: 0.7392 - accuracy: 0.6667 - val_loss: 0.7407 - val_accuracy: 0.6000 - 35ms/epoch - 9ms/step\n",
      "Epoch 49/70\n",
      "4/4 - 0s - loss: 0.7342 - accuracy: 0.6667 - val_loss: 0.7363 - val_accuracy: 0.6000 - 35ms/epoch - 9ms/step\n",
      "Epoch 50/70\n",
      "4/4 - 0s - loss: 0.7293 - accuracy: 0.6667 - val_loss: 0.7320 - val_accuracy: 0.6000 - 34ms/epoch - 8ms/step\n",
      "Epoch 51/70\n",
      "4/4 - 0s - loss: 0.7243 - accuracy: 0.6667 - val_loss: 0.7279 - val_accuracy: 0.6000 - 34ms/epoch - 9ms/step\n",
      "Epoch 52/70\n",
      "4/4 - 0s - loss: 0.7198 - accuracy: 0.6667 - val_loss: 0.7238 - val_accuracy: 0.6000 - 34ms/epoch - 9ms/step\n",
      "Epoch 53/70\n",
      "4/4 - 0s - loss: 0.7151 - accuracy: 0.6667 - val_loss: 0.7198 - val_accuracy: 0.6000 - 33ms/epoch - 8ms/step\n",
      "Epoch 54/70\n",
      "4/4 - 0s - loss: 0.7107 - accuracy: 0.6667 - val_loss: 0.7160 - val_accuracy: 0.6000 - 36ms/epoch - 9ms/step\n",
      "Epoch 55/70\n",
      "4/4 - 0s - loss: 0.7063 - accuracy: 0.6667 - val_loss: 0.7123 - val_accuracy: 0.6000 - 36ms/epoch - 9ms/step\n",
      "Epoch 56/70\n",
      "4/4 - 0s - loss: 0.7020 - accuracy: 0.6667 - val_loss: 0.7085 - val_accuracy: 0.6000 - 38ms/epoch - 9ms/step\n",
      "Epoch 57/70\n",
      "4/4 - 0s - loss: 0.6978 - accuracy: 0.6667 - val_loss: 0.7049 - val_accuracy: 0.6000 - 34ms/epoch - 8ms/step\n",
      "Epoch 58/70\n",
      "4/4 - 0s - loss: 0.6938 - accuracy: 0.6667 - val_loss: 0.7015 - val_accuracy: 0.6000 - 35ms/epoch - 9ms/step\n",
      "Epoch 59/70\n",
      "4/4 - 0s - loss: 0.6897 - accuracy: 0.6667 - val_loss: 0.6981 - val_accuracy: 0.6000 - 38ms/epoch - 10ms/step\n",
      "Epoch 60/70\n",
      "4/4 - 0s - loss: 0.6859 - accuracy: 0.6667 - val_loss: 0.6946 - val_accuracy: 0.6000 - 35ms/epoch - 9ms/step\n",
      "Epoch 61/70\n",
      "4/4 - 0s - loss: 0.6821 - accuracy: 0.6667 - val_loss: 0.6913 - val_accuracy: 0.6000 - 37ms/epoch - 9ms/step\n",
      "Epoch 62/70\n",
      "4/4 - 0s - loss: 0.6784 - accuracy: 0.6667 - val_loss: 0.6881 - val_accuracy: 0.6000 - 34ms/epoch - 9ms/step\n",
      "Epoch 63/70\n",
      "4/4 - 0s - loss: 0.6748 - accuracy: 0.6667 - val_loss: 0.6849 - val_accuracy: 0.6000 - 33ms/epoch - 8ms/step\n",
      "Epoch 64/70\n",
      "4/4 - 0s - loss: 0.6714 - accuracy: 0.6667 - val_loss: 0.6819 - val_accuracy: 0.6000 - 34ms/epoch - 9ms/step\n",
      "Epoch 65/70\n",
      "4/4 - 0s - loss: 0.6679 - accuracy: 0.6667 - val_loss: 0.6790 - val_accuracy: 0.6000 - 33ms/epoch - 8ms/step\n",
      "Epoch 66/70\n",
      "4/4 - 0s - loss: 0.6646 - accuracy: 0.6667 - val_loss: 0.6762 - val_accuracy: 0.6000 - 31ms/epoch - 8ms/step\n",
      "Epoch 67/70\n",
      "4/4 - 0s - loss: 0.6612 - accuracy: 0.6667 - val_loss: 0.6733 - val_accuracy: 0.6000 - 35ms/epoch - 9ms/step\n",
      "Epoch 68/70\n",
      "4/4 - 0s - loss: 0.6580 - accuracy: 0.6667 - val_loss: 0.6705 - val_accuracy: 0.6000 - 32ms/epoch - 8ms/step\n"
     ]
    },
    {
     "name": "stdout",
     "output_type": "stream",
     "text": [
      "Epoch 69/70\n",
      "4/4 - 0s - loss: 0.6549 - accuracy: 0.6750 - val_loss: 0.6679 - val_accuracy: 0.6000 - 30ms/epoch - 8ms/step\n",
      "Epoch 70/70\n",
      "4/4 - 0s - loss: 0.6519 - accuracy: 0.6750 - val_loss: 0.6650 - val_accuracy: 0.6000 - 33ms/epoch - 8ms/step\n"
     ]
    },
    {
     "data": {
      "text/plain": [
       "<keras.callbacks.History at 0x1c946255040>"
      ]
     },
     "execution_count": 31,
     "metadata": {},
     "output_type": "execute_result"
    }
   ],
   "source": [
    "NUM_EPOCHS = 70\n",
    "\n",
    "model.fit(X_train,y_train, epochs = NUM_EPOCHS, validation_data=(X_test,y_test), verbose=2)"
   ]
  },
  {
   "cell_type": "code",
   "execution_count": 32,
   "metadata": {
    "execution": {
     "iopub.execute_input": "2021-11-08T06:42:17.550423Z",
     "iopub.status.busy": "2021-11-08T06:42:17.550120Z",
     "iopub.status.idle": "2021-11-08T06:42:17.778754Z",
     "shell.execute_reply": "2021-11-08T06:42:17.778021Z",
     "shell.execute_reply.started": "2021-11-08T06:42:17.550373Z"
    }
   },
   "outputs": [],
   "source": [
    "y_predict = model.predict(X_test)"
   ]
  },
  {
   "cell_type": "code",
   "execution_count": 34,
   "metadata": {
    "execution": {
     "iopub.execute_input": "2021-11-08T06:49:20.461512Z",
     "iopub.status.busy": "2021-11-08T06:49:20.461189Z",
     "iopub.status.idle": "2021-11-08T06:49:20.528245Z",
     "shell.execute_reply": "2021-11-08T06:49:20.527483Z",
     "shell.execute_reply.started": "2021-11-08T06:49:20.461461Z"
    }
   },
   "outputs": [
    {
     "name": "stdout",
     "output_type": "stream",
     "text": [
      "[[10  0  0]\n",
      " [ 0  8  0]\n",
      " [ 0 12  0]]\n",
      "Accuracy: 0.6\n",
      "F1 score: 0.5238095238095238\n",
      "Recall: 0.6666666666666666\n",
      "Precision: 0.4666666666666666\n"
     ]
    },
    {
     "name": "stderr",
     "output_type": "stream",
     "text": [
      "c:\\users\\mange\\appdata\\local\\programs\\python\\python39\\lib\\site-packages\\sklearn\\metrics\\_classification.py:1308: UndefinedMetricWarning: Precision is ill-defined and being set to 0.0 in labels with no predicted samples. Use `zero_division` parameter to control this behavior.\n",
      "  _warn_prf(average, modifier, msg_start, len(result))\n"
     ]
    }
   ],
   "source": [
    "y_pred = []\n",
    "for val in y_predict:\n",
    "    y_pred.append(np.argmax(val))\n",
    "# print(y_pred)    \n",
    "#convert 0 1 to 1 and 1 0 as 0\n",
    "accuracy = metrics.accuracy_score(np.argmax(y_test,axis = 1) ,y_pred)\n",
    "recall = metrics.recall_score(np.argmax(y_test,axis = 1) ,y_pred,average='macro')\n",
    "precision = metrics.precision_score(np.argmax(y_test,axis = 1) ,y_pred,average='macro')\n",
    "f1_score = metrics.f1_score(np.argmax(y_test,axis = 1) ,y_pred,average='macro')\n",
    "cm = metrics.confusion_matrix(np.argmax(y_test,axis = 1) ,y_pred)\n",
    "print(cm)\n",
    "print(\"Accuracy:\",accuracy)\n",
    "print(\"F1 score:\",f1_score)\n",
    "print(\"Recall:\",recall)\n",
    "print(\"Precision:\",precision)"
   ]
  },
  {
   "cell_type": "code",
   "execution_count": 39,
   "metadata": {},
   "outputs": [
    {
     "name": "stdout",
     "output_type": "stream",
     "text": [
      "[0, 1, 0, 1, 0, 0, 1, 1, 1, 0, 1, 1, 0, 1, 1, 1, 1, 1, 1, 1, 1, 1, 0, 0, 1, 0, 1, 1, 1, 0]\n"
     ]
    }
   ],
   "source": [
    "print(y_pred)"
   ]
  }
 ],
 "metadata": {
  "kernelspec": {
   "display_name": "Python 3 (ipykernel)",
   "language": "python",
   "name": "python3"
  },
  "language_info": {
   "codemirror_mode": {
    "name": "ipython",
    "version": 3
   },
   "file_extension": ".py",
   "mimetype": "text/x-python",
   "name": "python",
   "nbconvert_exporter": "python",
   "pygments_lexer": "ipython3",
   "version": "3.9.6"
  }
 },
 "nbformat": 4,
 "nbformat_minor": 4
}
