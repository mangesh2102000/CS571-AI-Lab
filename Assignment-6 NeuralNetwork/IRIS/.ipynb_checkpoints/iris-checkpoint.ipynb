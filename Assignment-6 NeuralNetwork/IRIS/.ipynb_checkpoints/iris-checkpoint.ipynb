{
 "cells": [
  {
   "cell_type": "code",
   "execution_count": 1,
   "metadata": {
    "_cell_guid": "b1076dfc-b9ad-4769-8c92-a6c4dae69d19",
    "_uuid": "8f2839f25d086af736a60e9eeb907d3b93b6e0e5",
    "execution": {
     "iopub.execute_input": "2021-11-08T06:27:08.590608Z",
     "iopub.status.busy": "2021-11-08T06:27:08.590296Z",
     "iopub.status.idle": "2021-11-08T06:27:09.104699Z",
     "shell.execute_reply": "2021-11-08T06:27:09.103313Z",
     "shell.execute_reply.started": "2021-11-08T06:27:08.590559Z"
    }
   },
   "outputs": [
    {
     "name": "stdout",
     "output_type": "stream",
     "text": [
      "./iris.data.csv\n",
      "./iris.ipynb\n"
     ]
    }
   ],
   "source": [
    "import numpy as np\n",
    "import pandas as pd\n",
    "\n",
    "import os\n",
    "for dirname, _, filenames in os.walk('./'):\n",
    "    for filename in filenames:\n",
    "        print(os.path.join(dirname, filename))\n"
   ]
  },
  {
   "cell_type": "code",
   "execution_count": 2,
   "metadata": {
    "execution": {
     "iopub.execute_input": "2021-11-08T06:27:20.183131Z",
     "iopub.status.busy": "2021-11-08T06:27:20.182836Z",
     "iopub.status.idle": "2021-11-08T06:27:23.579143Z",
     "shell.execute_reply": "2021-11-08T06:27:23.578456Z",
     "shell.execute_reply.started": "2021-11-08T06:27:20.183082Z"
    }
   },
   "outputs": [
    {
     "data": {
      "text/html": [
       "<div>\n",
       "<style scoped>\n",
       "    .dataframe tbody tr th:only-of-type {\n",
       "        vertical-align: middle;\n",
       "    }\n",
       "\n",
       "    .dataframe tbody tr th {\n",
       "        vertical-align: top;\n",
       "    }\n",
       "\n",
       "    .dataframe thead th {\n",
       "        text-align: right;\n",
       "    }\n",
       "</style>\n",
       "<table border=\"1\" class=\"dataframe\">\n",
       "  <thead>\n",
       "    <tr style=\"text-align: right;\">\n",
       "      <th></th>\n",
       "      <th>0</th>\n",
       "      <th>1</th>\n",
       "      <th>2</th>\n",
       "      <th>3</th>\n",
       "      <th>4</th>\n",
       "    </tr>\n",
       "  </thead>\n",
       "  <tbody>\n",
       "    <tr>\n",
       "      <th>0</th>\n",
       "      <td>5.1</td>\n",
       "      <td>3.5</td>\n",
       "      <td>1.4</td>\n",
       "      <td>0.2</td>\n",
       "      <td>Iris-setosa</td>\n",
       "    </tr>\n",
       "    <tr>\n",
       "      <th>1</th>\n",
       "      <td>4.9</td>\n",
       "      <td>3.0</td>\n",
       "      <td>1.4</td>\n",
       "      <td>0.2</td>\n",
       "      <td>Iris-setosa</td>\n",
       "    </tr>\n",
       "    <tr>\n",
       "      <th>2</th>\n",
       "      <td>4.7</td>\n",
       "      <td>3.2</td>\n",
       "      <td>1.3</td>\n",
       "      <td>0.2</td>\n",
       "      <td>Iris-setosa</td>\n",
       "    </tr>\n",
       "    <tr>\n",
       "      <th>3</th>\n",
       "      <td>4.6</td>\n",
       "      <td>3.1</td>\n",
       "      <td>1.5</td>\n",
       "      <td>0.2</td>\n",
       "      <td>Iris-setosa</td>\n",
       "    </tr>\n",
       "    <tr>\n",
       "      <th>4</th>\n",
       "      <td>5.0</td>\n",
       "      <td>3.6</td>\n",
       "      <td>1.4</td>\n",
       "      <td>0.2</td>\n",
       "      <td>Iris-setosa</td>\n",
       "    </tr>\n",
       "  </tbody>\n",
       "</table>\n",
       "</div>"
      ],
      "text/plain": [
       "     0    1    2    3            4\n",
       "0  5.1  3.5  1.4  0.2  Iris-setosa\n",
       "1  4.9  3.0  1.4  0.2  Iris-setosa\n",
       "2  4.7  3.2  1.3  0.2  Iris-setosa\n",
       "3  4.6  3.1  1.5  0.2  Iris-setosa\n",
       "4  5.0  3.6  1.4  0.2  Iris-setosa"
      ]
     },
     "execution_count": 2,
     "metadata": {},
     "output_type": "execute_result"
    }
   ],
   "source": [
    "train_df = pd.read_csv('./iris.data.csv', header = None)\n",
    "train_df.head()"
   ]
  },
  {
   "cell_type": "code",
   "execution_count": 3,
   "metadata": {
    "execution": {
     "iopub.execute_input": "2021-11-08T06:27:36.449513Z",
     "iopub.status.busy": "2021-11-08T06:27:36.449069Z",
     "iopub.status.idle": "2021-11-08T06:27:36.456279Z",
     "shell.execute_reply": "2021-11-08T06:27:36.455429Z",
     "shell.execute_reply.started": "2021-11-08T06:27:36.449341Z"
    }
   },
   "outputs": [
    {
     "data": {
      "text/plain": [
       "(150, 5)"
      ]
     },
     "execution_count": 3,
     "metadata": {},
     "output_type": "execute_result"
    }
   ],
   "source": [
    "train_df.shape"
   ]
  },
  {
   "cell_type": "code",
   "execution_count": 4,
   "metadata": {
    "execution": {
     "iopub.execute_input": "2021-11-08T06:27:48.245145Z",
     "iopub.status.busy": "2021-11-08T06:27:48.244856Z",
     "iopub.status.idle": "2021-11-08T06:27:48.330256Z",
     "shell.execute_reply": "2021-11-08T06:27:48.329556Z",
     "shell.execute_reply.started": "2021-11-08T06:27:48.245098Z"
    }
   },
   "outputs": [],
   "source": [
    "X_train = train_df.drop([4], axis=1)\n",
    "y_train = train_df[4]"
   ]
  },
  {
   "cell_type": "code",
   "execution_count": 5,
   "metadata": {
    "execution": {
     "iopub.execute_input": "2021-11-08T06:27:53.026521Z",
     "iopub.status.busy": "2021-11-08T06:27:53.026216Z",
     "iopub.status.idle": "2021-11-08T06:27:53.031302Z",
     "shell.execute_reply": "2021-11-08T06:27:53.030364Z",
     "shell.execute_reply.started": "2021-11-08T06:27:53.026474Z"
    }
   },
   "outputs": [
    {
     "data": {
      "text/plain": [
       "(150, 4)"
      ]
     },
     "execution_count": 5,
     "metadata": {},
     "output_type": "execute_result"
    }
   ],
   "source": [
    "X_train.shape"
   ]
  },
  {
   "cell_type": "code",
   "execution_count": 13,
   "metadata": {
    "execution": {
     "iopub.execute_input": "2021-11-08T06:59:30.186977Z",
     "iopub.status.busy": "2021-11-08T06:59:30.186693Z",
     "iopub.status.idle": "2021-11-08T06:59:30.191491Z",
     "shell.execute_reply": "2021-11-08T06:59:30.190455Z",
     "shell.execute_reply.started": "2021-11-08T06:59:30.186929Z"
    }
   },
   "outputs": [],
   "source": [
    "from sklearn import metrics\n",
    "import matplotlib.pyplot as plt\n",
    "import numpy as np\n",
    "import tensorflow as tf"
   ]
  },
  {
   "cell_type": "code",
   "execution_count": 14,
   "metadata": {
    "execution": {
     "iopub.execute_input": "2021-11-08T06:52:52.631730Z",
     "iopub.status.busy": "2021-11-08T06:52:52.631425Z",
     "iopub.status.idle": "2021-11-08T06:52:52.646796Z",
     "shell.execute_reply": "2021-11-08T06:52:52.646118Z",
     "shell.execute_reply.started": "2021-11-08T06:52:52.631681Z"
    }
   },
   "outputs": [],
   "source": [
    "y_train=tf.keras.utils.to_categorical(y_train,10)\n",
    "y_test=tf.keras.utils.to_categorical(y_test,10)"
   ]
  },
  {
   "cell_type": "code",
   "execution_count": 15,
   "metadata": {
    "execution": {
     "iopub.execute_input": "2021-11-08T06:41:11.338245Z",
     "iopub.status.busy": "2021-11-08T06:41:11.337953Z",
     "iopub.status.idle": "2021-11-08T06:41:11.382875Z",
     "shell.execute_reply": "2021-11-08T06:41:11.382137Z",
     "shell.execute_reply.started": "2021-11-08T06:41:11.338197Z"
    }
   },
   "outputs": [],
   "source": [
    "input_size = 784\n",
    "output_size = 10\n",
    "hidden_layer_size = 200\n",
    "\n",
    "model = tf.keras.Sequential([\n",
    "                            tf.keras.layers.Flatten(input_shape=(28,28,1)),\n",
    "                            tf.keras.layers.Dense(500, activation='tanh'),\n",
    "                            tf.keras.layers.Dense(200, activation='tanh'),\n",
    "                            tf.keras.layers.Dense(200, activation='relu'),   \n",
    "                            tf.keras.layers.Dense(output_size, activation='softmax')   \n",
    "                            ])"
   ]
  },
  {
   "cell_type": "code",
   "execution_count": 16,
   "metadata": {
    "execution": {
     "iopub.execute_input": "2021-11-08T06:41:16.433173Z",
     "iopub.status.busy": "2021-11-08T06:41:16.432872Z",
     "iopub.status.idle": "2021-11-08T06:41:16.442124Z",
     "shell.execute_reply": "2021-11-08T06:41:16.441049Z",
     "shell.execute_reply.started": "2021-11-08T06:41:16.433121Z"
    }
   },
   "outputs": [
    {
     "name": "stdout",
     "output_type": "stream",
     "text": [
      "Model: \"sequential\"\n",
      "_________________________________________________________________\n",
      " Layer (type)                Output Shape              Param #   \n",
      "=================================================================\n",
      " flatten (Flatten)           (None, 784)               0         \n",
      "                                                                 \n",
      " dense (Dense)               (None, 500)               392500    \n",
      "                                                                 \n",
      " dense_1 (Dense)             (None, 200)               100200    \n",
      "                                                                 \n",
      " dense_2 (Dense)             (None, 200)               40200     \n",
      "                                                                 \n",
      " dense_3 (Dense)             (None, 10)                2010      \n",
      "                                                                 \n",
      "=================================================================\n",
      "Total params: 534,910\n",
      "Trainable params: 534,910\n",
      "Non-trainable params: 0\n",
      "_________________________________________________________________\n"
     ]
    }
   ],
   "source": [
    "model.summary()"
   ]
  },
  {
   "cell_type": "code",
   "execution_count": 17,
   "metadata": {
    "execution": {
     "iopub.execute_input": "2021-11-08T06:41:33.468289Z",
     "iopub.status.busy": "2021-11-08T06:41:33.468008Z",
     "iopub.status.idle": "2021-11-08T06:41:33.505746Z",
     "shell.execute_reply": "2021-11-08T06:41:33.505097Z",
     "shell.execute_reply.started": "2021-11-08T06:41:33.468242Z"
    }
   },
   "outputs": [],
   "source": [
    "model.compile(optimizer='adam', loss='categorical_crossentropy', metrics=['accuracy'])"
   ]
  },
  {
   "cell_type": "code",
   "execution_count": 18,
   "metadata": {
    "execution": {
     "iopub.execute_input": "2021-11-08T06:41:46.802507Z",
     "iopub.status.busy": "2021-11-08T06:41:46.802162Z",
     "iopub.status.idle": "2021-11-08T06:42:08.796945Z",
     "shell.execute_reply": "2021-11-08T06:42:08.796275Z",
     "shell.execute_reply.started": "2021-11-08T06:41:46.802453Z"
    }
   },
   "outputs": [
    {
     "name": "stdout",
     "output_type": "stream",
     "text": [
      "Epoch 1/100\n",
      "6/6 - 4s - loss: 1.5790 - accuracy: 0.5733 - val_loss: 0.7812 - val_accuracy: 0.8268 - 4s/epoch - 678ms/step\n",
      "Epoch 2/100\n",
      "6/6 - 1s - loss: 0.6111 - accuracy: 0.8428 - val_loss: 0.4310 - val_accuracy: 0.8803 - 1s/epoch - 247ms/step\n",
      "Epoch 3/100\n",
      "6/6 - 1s - loss: 0.3908 - accuracy: 0.8863 - val_loss: 0.3314 - val_accuracy: 0.9040 - 1s/epoch - 244ms/step\n",
      "Epoch 4/100\n",
      "6/6 - 1s - loss: 0.3170 - accuracy: 0.9048 - val_loss: 0.2847 - val_accuracy: 0.9167 - 1s/epoch - 243ms/step\n",
      "Epoch 5/100\n",
      "6/6 - 1s - loss: 0.2751 - accuracy: 0.9171 - val_loss: 0.2545 - val_accuracy: 0.9231 - 1s/epoch - 244ms/step\n",
      "Epoch 6/100\n",
      "6/6 - 1s - loss: 0.2458 - accuracy: 0.9258 - val_loss: 0.2289 - val_accuracy: 0.9326 - 1s/epoch - 245ms/step\n",
      "Epoch 7/100\n",
      "6/6 - 1s - loss: 0.2229 - accuracy: 0.9333 - val_loss: 0.2128 - val_accuracy: 0.9371 - 1s/epoch - 248ms/step\n",
      "Epoch 8/100\n",
      "6/6 - 2s - loss: 0.2050 - accuracy: 0.9387 - val_loss: 0.1979 - val_accuracy: 0.9400 - 2s/epoch - 284ms/step\n",
      "Epoch 9/100\n",
      "6/6 - 2s - loss: 0.1890 - accuracy: 0.9440 - val_loss: 0.1858 - val_accuracy: 0.9440 - 2s/epoch - 279ms/step\n",
      "Epoch 10/100\n",
      "6/6 - 1s - loss: 0.1763 - accuracy: 0.9480 - val_loss: 0.1759 - val_accuracy: 0.9472 - 1s/epoch - 242ms/step\n",
      "Epoch 11/100\n",
      "6/6 - 1s - loss: 0.1651 - accuracy: 0.9518 - val_loss: 0.1640 - val_accuracy: 0.9501 - 1s/epoch - 243ms/step\n",
      "Epoch 12/100\n",
      "6/6 - 2s - loss: 0.1545 - accuracy: 0.9551 - val_loss: 0.1564 - val_accuracy: 0.9532 - 2s/epoch - 277ms/step\n",
      "Epoch 13/100\n",
      "6/6 - 2s - loss: 0.1453 - accuracy: 0.9574 - val_loss: 0.1484 - val_accuracy: 0.9559 - 2s/epoch - 285ms/step\n",
      "Epoch 14/100\n",
      "6/6 - 2s - loss: 0.1367 - accuracy: 0.9594 - val_loss: 0.1420 - val_accuracy: 0.9562 - 2s/epoch - 285ms/step\n",
      "Epoch 15/100\n",
      "6/6 - 2s - loss: 0.1290 - accuracy: 0.9623 - val_loss: 0.1366 - val_accuracy: 0.9582 - 2s/epoch - 289ms/step\n",
      "Epoch 16/100\n",
      "6/6 - 2s - loss: 0.1224 - accuracy: 0.9645 - val_loss: 0.1316 - val_accuracy: 0.9600 - 2s/epoch - 250ms/step\n",
      "Epoch 17/100\n",
      "6/6 - 2s - loss: 0.1154 - accuracy: 0.9669 - val_loss: 0.1275 - val_accuracy: 0.9627 - 2s/epoch - 253ms/step\n",
      "Epoch 18/100\n",
      "6/6 - 2s - loss: 0.1093 - accuracy: 0.9684 - val_loss: 0.1238 - val_accuracy: 0.9624 - 2s/epoch - 286ms/step\n",
      "Epoch 19/100\n",
      "6/6 - 2s - loss: 0.1038 - accuracy: 0.9700 - val_loss: 0.1189 - val_accuracy: 0.9654 - 2s/epoch - 287ms/step\n",
      "Epoch 20/100\n",
      "6/6 - 2s - loss: 0.0987 - accuracy: 0.9718 - val_loss: 0.1157 - val_accuracy: 0.9649 - 2s/epoch - 285ms/step\n",
      "Epoch 21/100\n",
      "6/6 - 2s - loss: 0.0940 - accuracy: 0.9729 - val_loss: 0.1111 - val_accuracy: 0.9664 - 2s/epoch - 286ms/step\n",
      "Epoch 22/100\n",
      "6/6 - 2s - loss: 0.0900 - accuracy: 0.9747 - val_loss: 0.1076 - val_accuracy: 0.9673 - 2s/epoch - 284ms/step\n",
      "Epoch 23/100\n",
      "6/6 - 2s - loss: 0.0851 - accuracy: 0.9760 - val_loss: 0.1035 - val_accuracy: 0.9682 - 2s/epoch - 286ms/step\n",
      "Epoch 24/100\n",
      "6/6 - 2s - loss: 0.0807 - accuracy: 0.9772 - val_loss: 0.1025 - val_accuracy: 0.9675 - 2s/epoch - 289ms/step\n",
      "Epoch 25/100\n",
      "6/6 - 2s - loss: 0.0772 - accuracy: 0.9785 - val_loss: 0.0999 - val_accuracy: 0.9699 - 2s/epoch - 285ms/step\n",
      "Epoch 26/100\n",
      "6/6 - 2s - loss: 0.0739 - accuracy: 0.9790 - val_loss: 0.0974 - val_accuracy: 0.9691 - 2s/epoch - 285ms/step\n",
      "Epoch 27/100\n",
      "6/6 - 2s - loss: 0.0706 - accuracy: 0.9797 - val_loss: 0.0946 - val_accuracy: 0.9714 - 2s/epoch - 295ms/step\n",
      "Epoch 28/100\n",
      "6/6 - 2s - loss: 0.0665 - accuracy: 0.9817 - val_loss: 0.0920 - val_accuracy: 0.9718 - 2s/epoch - 290ms/step\n",
      "Epoch 29/100\n",
      "6/6 - 2s - loss: 0.0632 - accuracy: 0.9825 - val_loss: 0.0902 - val_accuracy: 0.9717 - 2s/epoch - 287ms/step\n",
      "Epoch 30/100\n",
      "6/6 - 2s - loss: 0.0603 - accuracy: 0.9837 - val_loss: 0.0885 - val_accuracy: 0.9723 - 2s/epoch - 289ms/step\n",
      "Epoch 31/100\n",
      "6/6 - 2s - loss: 0.0580 - accuracy: 0.9841 - val_loss: 0.0878 - val_accuracy: 0.9725 - 2s/epoch - 289ms/step\n",
      "Epoch 32/100\n",
      "6/6 - 2s - loss: 0.0550 - accuracy: 0.9853 - val_loss: 0.0871 - val_accuracy: 0.9730 - 2s/epoch - 285ms/step\n",
      "Epoch 33/100\n",
      "6/6 - 2s - loss: 0.0528 - accuracy: 0.9859 - val_loss: 0.0852 - val_accuracy: 0.9732 - 2s/epoch - 286ms/step\n",
      "Epoch 34/100\n",
      "6/6 - 2s - loss: 0.0506 - accuracy: 0.9865 - val_loss: 0.0825 - val_accuracy: 0.9742 - 2s/epoch - 287ms/step\n",
      "Epoch 35/100\n",
      "6/6 - 2s - loss: 0.0488 - accuracy: 0.9866 - val_loss: 0.0815 - val_accuracy: 0.9750 - 2s/epoch - 286ms/step\n",
      "Epoch 36/100\n",
      "6/6 - 2s - loss: 0.0458 - accuracy: 0.9877 - val_loss: 0.0803 - val_accuracy: 0.9748 - 2s/epoch - 286ms/step\n",
      "Epoch 37/100\n",
      "6/6 - 2s - loss: 0.0441 - accuracy: 0.9884 - val_loss: 0.0796 - val_accuracy: 0.9747 - 2s/epoch - 288ms/step\n",
      "Epoch 38/100\n",
      "6/6 - 2s - loss: 0.0417 - accuracy: 0.9889 - val_loss: 0.0786 - val_accuracy: 0.9755 - 2s/epoch - 288ms/step\n",
      "Epoch 39/100\n",
      "6/6 - 2s - loss: 0.0398 - accuracy: 0.9895 - val_loss: 0.0776 - val_accuracy: 0.9747 - 2s/epoch - 292ms/step\n",
      "Epoch 40/100\n",
      "6/6 - 2s - loss: 0.0385 - accuracy: 0.9899 - val_loss: 0.0772 - val_accuracy: 0.9755 - 2s/epoch - 288ms/step\n",
      "Epoch 41/100\n",
      "6/6 - 2s - loss: 0.0366 - accuracy: 0.9904 - val_loss: 0.0770 - val_accuracy: 0.9762 - 2s/epoch - 290ms/step\n",
      "Epoch 42/100\n",
      "6/6 - 2s - loss: 0.0354 - accuracy: 0.9909 - val_loss: 0.0749 - val_accuracy: 0.9764 - 2s/epoch - 287ms/step\n",
      "Epoch 43/100\n",
      "6/6 - 2s - loss: 0.0334 - accuracy: 0.9918 - val_loss: 0.0742 - val_accuracy: 0.9771 - 2s/epoch - 289ms/step\n",
      "Epoch 44/100\n",
      "6/6 - 2s - loss: 0.0314 - accuracy: 0.9925 - val_loss: 0.0734 - val_accuracy: 0.9775 - 2s/epoch - 287ms/step\n",
      "Epoch 45/100\n",
      "6/6 - 2s - loss: 0.0301 - accuracy: 0.9931 - val_loss: 0.0729 - val_accuracy: 0.9774 - 2s/epoch - 287ms/step\n",
      "Epoch 46/100\n",
      "6/6 - 2s - loss: 0.0287 - accuracy: 0.9933 - val_loss: 0.0723 - val_accuracy: 0.9771 - 2s/epoch - 289ms/step\n",
      "Epoch 47/100\n",
      "6/6 - 2s - loss: 0.0272 - accuracy: 0.9940 - val_loss: 0.0722 - val_accuracy: 0.9768 - 2s/epoch - 289ms/step\n",
      "Epoch 48/100\n",
      "6/6 - 2s - loss: 0.0259 - accuracy: 0.9944 - val_loss: 0.0715 - val_accuracy: 0.9772 - 2s/epoch - 287ms/step\n",
      "Epoch 49/100\n",
      "6/6 - 2s - loss: 0.0246 - accuracy: 0.9946 - val_loss: 0.0716 - val_accuracy: 0.9767 - 2s/epoch - 307ms/step\n",
      "Epoch 50/100\n",
      "6/6 - 2s - loss: 0.0234 - accuracy: 0.9951 - val_loss: 0.0709 - val_accuracy: 0.9772 - 2s/epoch - 322ms/step\n",
      "Epoch 51/100\n",
      "6/6 - 2s - loss: 0.0222 - accuracy: 0.9957 - val_loss: 0.0704 - val_accuracy: 0.9771 - 2s/epoch - 315ms/step\n",
      "Epoch 52/100\n",
      "6/6 - 2s - loss: 0.0214 - accuracy: 0.9957 - val_loss: 0.0711 - val_accuracy: 0.9779 - 2s/epoch - 302ms/step\n",
      "Epoch 53/100\n",
      "6/6 - 2s - loss: 0.0204 - accuracy: 0.9959 - val_loss: 0.0704 - val_accuracy: 0.9776 - 2s/epoch - 290ms/step\n",
      "Epoch 54/100\n",
      "6/6 - 2s - loss: 0.0190 - accuracy: 0.9967 - val_loss: 0.0696 - val_accuracy: 0.9770 - 2s/epoch - 323ms/step\n",
      "Epoch 55/100\n",
      "6/6 - 2s - loss: 0.0181 - accuracy: 0.9970 - val_loss: 0.0700 - val_accuracy: 0.9776 - 2s/epoch - 328ms/step\n",
      "Epoch 56/100\n",
      "6/6 - 2s - loss: 0.0171 - accuracy: 0.9973 - val_loss: 0.0696 - val_accuracy: 0.9777 - 2s/epoch - 322ms/step\n",
      "Epoch 57/100\n",
      "6/6 - 2s - loss: 0.0165 - accuracy: 0.9974 - val_loss: 0.0708 - val_accuracy: 0.9772 - 2s/epoch - 307ms/step\n",
      "Epoch 58/100\n",
      "6/6 - 2s - loss: 0.0158 - accuracy: 0.9976 - val_loss: 0.0699 - val_accuracy: 0.9780 - 2s/epoch - 294ms/step\n",
      "Epoch 59/100\n",
      "6/6 - 2s - loss: 0.0149 - accuracy: 0.9979 - val_loss: 0.0695 - val_accuracy: 0.9783 - 2s/epoch - 289ms/step\n",
      "Epoch 60/100\n",
      "6/6 - 2s - loss: 0.0141 - accuracy: 0.9980 - val_loss: 0.0689 - val_accuracy: 0.9783 - 2s/epoch - 306ms/step\n",
      "Epoch 61/100\n",
      "6/6 - 2s - loss: 0.0136 - accuracy: 0.9982 - val_loss: 0.0705 - val_accuracy: 0.9780 - 2s/epoch - 300ms/step\n",
      "Epoch 62/100\n",
      "6/6 - 2s - loss: 0.0128 - accuracy: 0.9983 - val_loss: 0.0700 - val_accuracy: 0.9776 - 2s/epoch - 296ms/step\n",
      "Epoch 63/100\n",
      "6/6 - 2s - loss: 0.0123 - accuracy: 0.9985 - val_loss: 0.0706 - val_accuracy: 0.9779 - 2s/epoch - 289ms/step\n",
      "Epoch 64/100\n",
      "6/6 - 2s - loss: 0.0119 - accuracy: 0.9986 - val_loss: 0.0695 - val_accuracy: 0.9779 - 2s/epoch - 308ms/step\n",
      "Epoch 65/100\n",
      "6/6 - 2s - loss: 0.0114 - accuracy: 0.9987 - val_loss: 0.0690 - val_accuracy: 0.9777 - 2s/epoch - 306ms/step\n",
      "Epoch 66/100\n",
      "6/6 - 2s - loss: 0.0106 - accuracy: 0.9989 - val_loss: 0.0685 - val_accuracy: 0.9789 - 2s/epoch - 317ms/step\n",
      "Epoch 67/100\n",
      "6/6 - 2s - loss: 0.0101 - accuracy: 0.9990 - val_loss: 0.0688 - val_accuracy: 0.9788 - 2s/epoch - 324ms/step\n",
      "Epoch 68/100\n",
      "6/6 - 2s - loss: 0.0096 - accuracy: 0.9991 - val_loss: 0.0693 - val_accuracy: 0.9781 - 2s/epoch - 315ms/step\n"
     ]
    },
    {
     "name": "stdout",
     "output_type": "stream",
     "text": [
      "Epoch 69/100\n",
      "6/6 - 2s - loss: 0.0090 - accuracy: 0.9992 - val_loss: 0.0697 - val_accuracy: 0.9788 - 2s/epoch - 302ms/step\n",
      "Epoch 70/100\n",
      "6/6 - 2s - loss: 0.0087 - accuracy: 0.9993 - val_loss: 0.0698 - val_accuracy: 0.9788 - 2s/epoch - 300ms/step\n",
      "Epoch 71/100\n",
      "6/6 - 2s - loss: 0.0084 - accuracy: 0.9993 - val_loss: 0.0705 - val_accuracy: 0.9782 - 2s/epoch - 310ms/step\n",
      "Epoch 72/100\n",
      "6/6 - 2s - loss: 0.0081 - accuracy: 0.9993 - val_loss: 0.0694 - val_accuracy: 0.9788 - 2s/epoch - 304ms/step\n",
      "Epoch 73/100\n",
      "6/6 - 2s - loss: 0.0075 - accuracy: 0.9995 - val_loss: 0.0704 - val_accuracy: 0.9780 - 2s/epoch - 303ms/step\n",
      "Epoch 74/100\n",
      "6/6 - 2s - loss: 0.0072 - accuracy: 0.9996 - val_loss: 0.0708 - val_accuracy: 0.9783 - 2s/epoch - 306ms/step\n",
      "Epoch 75/100\n",
      "6/6 - 2s - loss: 0.0070 - accuracy: 0.9996 - val_loss: 0.0696 - val_accuracy: 0.9780 - 2s/epoch - 308ms/step\n",
      "Epoch 76/100\n",
      "6/6 - 2s - loss: 0.0065 - accuracy: 0.9996 - val_loss: 0.0697 - val_accuracy: 0.9793 - 2s/epoch - 321ms/step\n",
      "Epoch 77/100\n",
      "6/6 - 2s - loss: 0.0062 - accuracy: 0.9997 - val_loss: 0.0704 - val_accuracy: 0.9787 - 2s/epoch - 305ms/step\n",
      "Epoch 78/100\n",
      "6/6 - 2s - loss: 0.0059 - accuracy: 0.9997 - val_loss: 0.0702 - val_accuracy: 0.9787 - 2s/epoch - 287ms/step\n",
      "Epoch 79/100\n",
      "6/6 - 2s - loss: 0.0057 - accuracy: 0.9997 - val_loss: 0.0696 - val_accuracy: 0.9793 - 2s/epoch - 284ms/step\n",
      "Epoch 80/100\n",
      "6/6 - 2s - loss: 0.0054 - accuracy: 0.9998 - val_loss: 0.0709 - val_accuracy: 0.9784 - 2s/epoch - 287ms/step\n",
      "Epoch 81/100\n",
      "6/6 - 2s - loss: 0.0053 - accuracy: 0.9998 - val_loss: 0.0711 - val_accuracy: 0.9783 - 2s/epoch - 286ms/step\n",
      "Epoch 82/100\n",
      "6/6 - 2s - loss: 0.0050 - accuracy: 0.9998 - val_loss: 0.0709 - val_accuracy: 0.9785 - 2s/epoch - 286ms/step\n",
      "Epoch 83/100\n",
      "6/6 - 2s - loss: 0.0048 - accuracy: 0.9998 - val_loss: 0.0707 - val_accuracy: 0.9781 - 2s/epoch - 286ms/step\n",
      "Epoch 84/100\n",
      "6/6 - 2s - loss: 0.0046 - accuracy: 0.9998 - val_loss: 0.0712 - val_accuracy: 0.9794 - 2s/epoch - 286ms/step\n",
      "Epoch 85/100\n",
      "6/6 - 2s - loss: 0.0044 - accuracy: 0.9998 - val_loss: 0.0711 - val_accuracy: 0.9792 - 2s/epoch - 286ms/step\n",
      "Epoch 86/100\n",
      "6/6 - 2s - loss: 0.0042 - accuracy: 0.9998 - val_loss: 0.0710 - val_accuracy: 0.9792 - 2s/epoch - 286ms/step\n",
      "Epoch 87/100\n",
      "6/6 - 2s - loss: 0.0041 - accuracy: 0.9999 - val_loss: 0.0716 - val_accuracy: 0.9794 - 2s/epoch - 287ms/step\n",
      "Epoch 88/100\n",
      "6/6 - 2s - loss: 0.0039 - accuracy: 0.9999 - val_loss: 0.0727 - val_accuracy: 0.9782 - 2s/epoch - 286ms/step\n",
      "Epoch 89/100\n",
      "6/6 - 2s - loss: 0.0038 - accuracy: 0.9999 - val_loss: 0.0719 - val_accuracy: 0.9787 - 2s/epoch - 286ms/step\n",
      "Epoch 90/100\n",
      "6/6 - 2s - loss: 0.0036 - accuracy: 0.9999 - val_loss: 0.0723 - val_accuracy: 0.9790 - 2s/epoch - 287ms/step\n",
      "Epoch 91/100\n",
      "6/6 - 2s - loss: 0.0035 - accuracy: 0.9999 - val_loss: 0.0724 - val_accuracy: 0.9792 - 2s/epoch - 287ms/step\n",
      "Epoch 92/100\n",
      "6/6 - 2s - loss: 0.0033 - accuracy: 0.9999 - val_loss: 0.0721 - val_accuracy: 0.9792 - 2s/epoch - 286ms/step\n",
      "Epoch 93/100\n",
      "6/6 - 2s - loss: 0.0033 - accuracy: 0.9999 - val_loss: 0.0725 - val_accuracy: 0.9791 - 2s/epoch - 283ms/step\n",
      "Epoch 94/100\n",
      "6/6 - 2s - loss: 0.0031 - accuracy: 0.9999 - val_loss: 0.0733 - val_accuracy: 0.9792 - 2s/epoch - 286ms/step\n",
      "Epoch 95/100\n",
      "6/6 - 2s - loss: 0.0030 - accuracy: 0.9999 - val_loss: 0.0735 - val_accuracy: 0.9783 - 2s/epoch - 288ms/step\n",
      "Epoch 96/100\n",
      "6/6 - 2s - loss: 0.0030 - accuracy: 0.9999 - val_loss: 0.0729 - val_accuracy: 0.9793 - 2s/epoch - 288ms/step\n",
      "Epoch 97/100\n",
      "6/6 - 2s - loss: 0.0029 - accuracy: 0.9999 - val_loss: 0.0730 - val_accuracy: 0.9795 - 2s/epoch - 292ms/step\n",
      "Epoch 98/100\n",
      "6/6 - 2s - loss: 0.0028 - accuracy: 1.0000 - val_loss: 0.0741 - val_accuracy: 0.9788 - 2s/epoch - 291ms/step\n",
      "Epoch 99/100\n",
      "6/6 - 2s - loss: 0.0026 - accuracy: 1.0000 - val_loss: 0.0743 - val_accuracy: 0.9786 - 2s/epoch - 289ms/step\n",
      "Epoch 100/100\n",
      "6/6 - 2s - loss: 0.0025 - accuracy: 1.0000 - val_loss: 0.0734 - val_accuracy: 0.9792 - 2s/epoch - 285ms/step\n"
     ]
    },
    {
     "data": {
      "text/plain": [
       "<keras.callbacks.History at 0x22e44cb21c0>"
      ]
     },
     "execution_count": 18,
     "metadata": {},
     "output_type": "execute_result"
    }
   ],
   "source": [
    "NUM_EPOCHS = 100\n",
    "\n",
    "model.fit(X_train,y_train, batch_size=10000, epochs = NUM_EPOCHS, validation_data=(X_test,y_test), verbose=2)"
   ]
  },
  {
   "cell_type": "code",
   "execution_count": 19,
   "metadata": {
    "execution": {
     "iopub.execute_input": "2021-11-08T06:42:17.550423Z",
     "iopub.status.busy": "2021-11-08T06:42:17.550120Z",
     "iopub.status.idle": "2021-11-08T06:42:17.778754Z",
     "shell.execute_reply": "2021-11-08T06:42:17.778021Z",
     "shell.execute_reply.started": "2021-11-08T06:42:17.550373Z"
    }
   },
   "outputs": [],
   "source": [
    "y_predict = model.predict(X_test)"
   ]
  },
  {
   "cell_type": "code",
   "execution_count": 20,
   "metadata": {
    "execution": {
     "iopub.execute_input": "2021-11-08T06:49:20.461512Z",
     "iopub.status.busy": "2021-11-08T06:49:20.461189Z",
     "iopub.status.idle": "2021-11-08T06:49:20.528245Z",
     "shell.execute_reply": "2021-11-08T06:49:20.527483Z",
     "shell.execute_reply.started": "2021-11-08T06:49:20.461461Z"
    },
    "scrolled": true
   },
   "outputs": [
    {
     "name": "stdout",
     "output_type": "stream",
     "text": [
      "[[ 968    0    2    1    1    1    3    1    2    1]\n",
      " [   0 1126    2    1    0    1    2    1    2    0]\n",
      " [   5    1 1007    3    2    0    2    5    6    1]\n",
      " [   0    0    3  987    0    6    0    2    5    7]\n",
      " [   0    1    4    1  960    0    4    3    0    9]\n",
      " [   3    0    0    3    2  870    5    0    4    5]\n",
      " [   4    2    2    1    4    6  936    0    3    0]\n",
      " [   1    2    7    3    1    1    0 1006    0    7]\n",
      " [   4    0    4    3    3    2    3    3  948    4]\n",
      " [   2    2    0    5    9    2    0    2    3  984]]\n",
      "Accuracy: 0.9792\n",
      "F1 score: 0.9790019435173203\n",
      "Recall: 0.9789925227690401\n",
      "Precision: 0.9790202151306477\n"
     ]
    }
   ],
   "source": [
    "y_pred = []\n",
    "for val in y_predict:\n",
    "    y_pred.append(np.argmax(val))\n",
    "# print(y_pred)    \n",
    "#convert 0 1 to 1 and 1 0 as 0\n",
    "accuracy = metrics.accuracy_score(np.argmax(y_test,axis = 1) ,y_pred)\n",
    "recall = metrics.recall_score(np.argmax(y_test,axis = 1) ,y_pred,average='macro')\n",
    "precision = metrics.precision_score(np.argmax(y_test,axis = 1) ,y_pred,average='macro')\n",
    "f1_score = metrics.f1_score(np.argmax(y_test,axis = 1) ,y_pred,average='macro')\n",
    "cm = metrics.confusion_matrix(np.argmax(y_test,axis = 1) ,y_pred)\n",
    "print(cm)\n",
    "print(\"Accuracy:\",accuracy)\n",
    "print(\"F1 score:\",f1_score)\n",
    "print(\"Recall:\",recall)\n",
    "print(\"Precision:\",precision)"
   ]
  },
  {
   "cell_type": "code",
   "execution_count": null,
   "metadata": {
    "execution": {
     "iopub.execute_input": "2021-08-05T22:01:12.800558Z",
     "iopub.status.busy": "2021-08-05T22:01:12.800268Z",
     "iopub.status.idle": "2021-08-05T22:01:13.107771Z",
     "shell.execute_reply": "2021-08-05T22:01:13.106967Z",
     "shell.execute_reply.started": "2021-08-05T22:01:12.800513Z"
    }
   },
   "outputs": [],
   "source": [
    "# predict results\n",
    "results = model.predict(X_test)"
   ]
  },
  {
   "cell_type": "code",
   "execution_count": null,
   "metadata": {
    "execution": {
     "iopub.execute_input": "2021-08-05T22:01:12.800558Z",
     "iopub.status.busy": "2021-08-05T22:01:12.800268Z",
     "iopub.status.idle": "2021-08-05T22:01:13.107771Z",
     "shell.execute_reply": "2021-08-05T22:01:13.106967Z",
     "shell.execute_reply.started": "2021-08-05T22:01:12.800513Z"
    }
   },
   "outputs": [],
   "source": [
    "print(results)"
   ]
  },
  {
   "cell_type": "code",
   "execution_count": null,
   "metadata": {
    "execution": {
     "iopub.execute_input": "2021-08-05T22:01:12.800558Z",
     "iopub.status.busy": "2021-08-05T22:01:12.800268Z",
     "iopub.status.idle": "2021-08-05T22:01:13.107771Z",
     "shell.execute_reply": "2021-08-05T22:01:13.106967Z",
     "shell.execute_reply.started": "2021-08-05T22:01:12.800513Z"
    }
   },
   "outputs": [],
   "source": [
    "final_prediction = []\n",
    "for val in results:\n",
    "    final_prediction.append(np.argmax(val))"
   ]
  },
  {
   "cell_type": "code",
   "execution_count": null,
   "metadata": {},
   "outputs": [],
   "source": [
    "print(final_prediction)"
   ]
  },
  {
   "cell_type": "code",
   "execution_count": null,
   "metadata": {
    "execution": {
     "iopub.execute_input": "2021-08-05T22:01:12.800558Z",
     "iopub.status.busy": "2021-08-05T22:01:12.800268Z",
     "iopub.status.idle": "2021-08-05T22:01:13.107771Z",
     "shell.execute_reply": "2021-08-05T22:01:13.106967Z",
     "shell.execute_reply.started": "2021-08-05T22:01:12.800513Z"
    }
   },
   "outputs": [],
   "source": [
    "accuracy = metrics.accuracy_score(np.argmax(y_test,axis = 1) ,final_prediction)\n",
    "recall = metrics.recall_score(np.argmax(y_test,axis = 1) ,final_prediction,average='macro')\n",
    "precision = metrics.precision_score(np.argmax(y_test,axis = 1) ,final_prediction,average='macro')\n",
    "f1_score = metrics.f1_score(np.argmax(y_test,axis = 1) ,final_prediction,average='macro')\n",
    "cm = metrics.confusion_matrix(np.argmax(y_test,axis = 1) ,final_prediction)\n",
    "print(cm)\n",
    "print(\"Accuracy:\",accuracy)\n",
    "print(\"F1 score:\",f1_score)\n",
    "print(\"Recall:\",recall)\n",
    "print(\"Precision:\",precision)"
   ]
  },
  {
   "cell_type": "code",
   "execution_count": null,
   "metadata": {
    "execution": {
     "iopub.execute_input": "2021-08-05T22:01:12.800558Z",
     "iopub.status.busy": "2021-08-05T22:01:12.800268Z",
     "iopub.status.idle": "2021-08-05T22:01:13.107771Z",
     "shell.execute_reply": "2021-08-05T22:01:13.106967Z",
     "shell.execute_reply.started": "2021-08-05T22:01:12.800513Z"
    }
   },
   "outputs": [],
   "source": [
    "# select the indix with the maximum probability\n",
    "results = np.argmax(results,axis = 1)"
   ]
  },
  {
   "cell_type": "code",
   "execution_count": null,
   "metadata": {
    "execution": {
     "iopub.execute_input": "2021-08-05T22:01:12.800558Z",
     "iopub.status.busy": "2021-08-05T22:01:12.800268Z",
     "iopub.status.idle": "2021-08-05T22:01:13.107771Z",
     "shell.execute_reply": "2021-08-05T22:01:13.106967Z",
     "shell.execute_reply.started": "2021-08-05T22:01:12.800513Z"
    }
   },
   "outputs": [],
   "source": [
    "results = pd.Series(results,name=\"Label\")"
   ]
  },
  {
   "cell_type": "code",
   "execution_count": null,
   "metadata": {},
   "outputs": [],
   "source": [
    "print(results)"
   ]
  },
  {
   "cell_type": "code",
   "execution_count": null,
   "metadata": {},
   "outputs": [],
   "source": []
  }
 ],
 "metadata": {
  "kernelspec": {
   "display_name": "Python 3 (ipykernel)",
   "language": "python",
   "name": "python3"
  },
  "language_info": {
   "codemirror_mode": {
    "name": "ipython",
    "version": 3
   },
   "file_extension": ".py",
   "mimetype": "text/x-python",
   "name": "python",
   "nbconvert_exporter": "python",
   "pygments_lexer": "ipython3",
   "version": "3.9.6"
  }
 },
 "nbformat": 4,
 "nbformat_minor": 4
}
