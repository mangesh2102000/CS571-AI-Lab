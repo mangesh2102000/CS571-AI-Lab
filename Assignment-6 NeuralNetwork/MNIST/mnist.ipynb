{
 "cells": [
  {
   "cell_type": "code",
   "execution_count": 1,
   "metadata": {
    "_cell_guid": "b1076dfc-b9ad-4769-8c92-a6c4dae69d19",
    "_uuid": "8f2839f25d086af736a60e9eeb907d3b93b6e0e5",
    "execution": {
     "iopub.execute_input": "2021-11-08T06:27:08.590608Z",
     "iopub.status.busy": "2021-11-08T06:27:08.590296Z",
     "iopub.status.idle": "2021-11-08T06:27:09.104699Z",
     "shell.execute_reply": "2021-11-08T06:27:09.103313Z",
     "shell.execute_reply.started": "2021-11-08T06:27:08.590559Z"
    }
   },
   "outputs": [
    {
     "name": "stdout",
     "output_type": "stream",
     "text": [
      "./mnist.ipynb\n",
      "./mnist_test.csv\n",
      "./mnist_train.csv\n",
      "./.ipynb_checkpoints\\mnist-checkpoint.ipynb\n"
     ]
    }
   ],
   "source": [
    "import numpy as np\n",
    "import pandas as pd\n",
    "\n",
    "import os\n",
    "for dirname, _, filenames in os.walk('./'):\n",
    "    for filename in filenames:\n",
    "        print(os.path.join(dirname, filename))\n"
   ]
  },
  {
   "cell_type": "code",
   "execution_count": 2,
   "metadata": {
    "execution": {
     "iopub.execute_input": "2021-11-08T06:27:20.183131Z",
     "iopub.status.busy": "2021-11-08T06:27:20.182836Z",
     "iopub.status.idle": "2021-11-08T06:27:23.579143Z",
     "shell.execute_reply": "2021-11-08T06:27:23.578456Z",
     "shell.execute_reply.started": "2021-11-08T06:27:20.183082Z"
    }
   },
   "outputs": [
    {
     "data": {
      "text/html": [
       "<div>\n",
       "<style scoped>\n",
       "    .dataframe tbody tr th:only-of-type {\n",
       "        vertical-align: middle;\n",
       "    }\n",
       "\n",
       "    .dataframe tbody tr th {\n",
       "        vertical-align: top;\n",
       "    }\n",
       "\n",
       "    .dataframe thead th {\n",
       "        text-align: right;\n",
       "    }\n",
       "</style>\n",
       "<table border=\"1\" class=\"dataframe\">\n",
       "  <thead>\n",
       "    <tr style=\"text-align: right;\">\n",
       "      <th></th>\n",
       "      <th>0</th>\n",
       "      <th>1</th>\n",
       "      <th>2</th>\n",
       "      <th>3</th>\n",
       "      <th>4</th>\n",
       "      <th>5</th>\n",
       "      <th>6</th>\n",
       "      <th>7</th>\n",
       "      <th>8</th>\n",
       "      <th>9</th>\n",
       "      <th>...</th>\n",
       "      <th>775</th>\n",
       "      <th>776</th>\n",
       "      <th>777</th>\n",
       "      <th>778</th>\n",
       "      <th>779</th>\n",
       "      <th>780</th>\n",
       "      <th>781</th>\n",
       "      <th>782</th>\n",
       "      <th>783</th>\n",
       "      <th>784</th>\n",
       "    </tr>\n",
       "  </thead>\n",
       "  <tbody>\n",
       "    <tr>\n",
       "      <th>0</th>\n",
       "      <td>5</td>\n",
       "      <td>0</td>\n",
       "      <td>0</td>\n",
       "      <td>0</td>\n",
       "      <td>0</td>\n",
       "      <td>0</td>\n",
       "      <td>0</td>\n",
       "      <td>0</td>\n",
       "      <td>0</td>\n",
       "      <td>0</td>\n",
       "      <td>...</td>\n",
       "      <td>0</td>\n",
       "      <td>0</td>\n",
       "      <td>0</td>\n",
       "      <td>0</td>\n",
       "      <td>0</td>\n",
       "      <td>0</td>\n",
       "      <td>0</td>\n",
       "      <td>0</td>\n",
       "      <td>0</td>\n",
       "      <td>0</td>\n",
       "    </tr>\n",
       "    <tr>\n",
       "      <th>1</th>\n",
       "      <td>0</td>\n",
       "      <td>0</td>\n",
       "      <td>0</td>\n",
       "      <td>0</td>\n",
       "      <td>0</td>\n",
       "      <td>0</td>\n",
       "      <td>0</td>\n",
       "      <td>0</td>\n",
       "      <td>0</td>\n",
       "      <td>0</td>\n",
       "      <td>...</td>\n",
       "      <td>0</td>\n",
       "      <td>0</td>\n",
       "      <td>0</td>\n",
       "      <td>0</td>\n",
       "      <td>0</td>\n",
       "      <td>0</td>\n",
       "      <td>0</td>\n",
       "      <td>0</td>\n",
       "      <td>0</td>\n",
       "      <td>0</td>\n",
       "    </tr>\n",
       "    <tr>\n",
       "      <th>2</th>\n",
       "      <td>4</td>\n",
       "      <td>0</td>\n",
       "      <td>0</td>\n",
       "      <td>0</td>\n",
       "      <td>0</td>\n",
       "      <td>0</td>\n",
       "      <td>0</td>\n",
       "      <td>0</td>\n",
       "      <td>0</td>\n",
       "      <td>0</td>\n",
       "      <td>...</td>\n",
       "      <td>0</td>\n",
       "      <td>0</td>\n",
       "      <td>0</td>\n",
       "      <td>0</td>\n",
       "      <td>0</td>\n",
       "      <td>0</td>\n",
       "      <td>0</td>\n",
       "      <td>0</td>\n",
       "      <td>0</td>\n",
       "      <td>0</td>\n",
       "    </tr>\n",
       "    <tr>\n",
       "      <th>3</th>\n",
       "      <td>1</td>\n",
       "      <td>0</td>\n",
       "      <td>0</td>\n",
       "      <td>0</td>\n",
       "      <td>0</td>\n",
       "      <td>0</td>\n",
       "      <td>0</td>\n",
       "      <td>0</td>\n",
       "      <td>0</td>\n",
       "      <td>0</td>\n",
       "      <td>...</td>\n",
       "      <td>0</td>\n",
       "      <td>0</td>\n",
       "      <td>0</td>\n",
       "      <td>0</td>\n",
       "      <td>0</td>\n",
       "      <td>0</td>\n",
       "      <td>0</td>\n",
       "      <td>0</td>\n",
       "      <td>0</td>\n",
       "      <td>0</td>\n",
       "    </tr>\n",
       "    <tr>\n",
       "      <th>4</th>\n",
       "      <td>9</td>\n",
       "      <td>0</td>\n",
       "      <td>0</td>\n",
       "      <td>0</td>\n",
       "      <td>0</td>\n",
       "      <td>0</td>\n",
       "      <td>0</td>\n",
       "      <td>0</td>\n",
       "      <td>0</td>\n",
       "      <td>0</td>\n",
       "      <td>...</td>\n",
       "      <td>0</td>\n",
       "      <td>0</td>\n",
       "      <td>0</td>\n",
       "      <td>0</td>\n",
       "      <td>0</td>\n",
       "      <td>0</td>\n",
       "      <td>0</td>\n",
       "      <td>0</td>\n",
       "      <td>0</td>\n",
       "      <td>0</td>\n",
       "    </tr>\n",
       "  </tbody>\n",
       "</table>\n",
       "<p>5 rows × 785 columns</p>\n",
       "</div>"
      ],
      "text/plain": [
       "   0    1    2    3    4    5    6    7    8    9    ...  775  776  777  778  \\\n",
       "0    5    0    0    0    0    0    0    0    0    0  ...    0    0    0    0   \n",
       "1    0    0    0    0    0    0    0    0    0    0  ...    0    0    0    0   \n",
       "2    4    0    0    0    0    0    0    0    0    0  ...    0    0    0    0   \n",
       "3    1    0    0    0    0    0    0    0    0    0  ...    0    0    0    0   \n",
       "4    9    0    0    0    0    0    0    0    0    0  ...    0    0    0    0   \n",
       "\n",
       "   779  780  781  782  783  784  \n",
       "0    0    0    0    0    0    0  \n",
       "1    0    0    0    0    0    0  \n",
       "2    0    0    0    0    0    0  \n",
       "3    0    0    0    0    0    0  \n",
       "4    0    0    0    0    0    0  \n",
       "\n",
       "[5 rows x 785 columns]"
      ]
     },
     "execution_count": 2,
     "metadata": {},
     "output_type": "execute_result"
    }
   ],
   "source": [
    "train_df = pd.read_csv('./mnist_train.csv', header = None)\n",
    "train_df.head()"
   ]
  },
  {
   "cell_type": "code",
   "execution_count": 3,
   "metadata": {
    "_cell_guid": "79c7e3d0-c299-4dcb-8224-4455121ee9b0",
    "_uuid": "d629ff2d2480ee46fbb7e2d37f6b5fab8052498a",
    "execution": {
     "iopub.execute_input": "2021-11-08T06:27:34.359596Z",
     "iopub.status.busy": "2021-11-08T06:27:34.359194Z",
     "iopub.status.idle": "2021-11-08T06:27:36.447351Z",
     "shell.execute_reply": "2021-11-08T06:27:36.446577Z",
     "shell.execute_reply.started": "2021-11-08T06:27:34.359530Z"
    }
   },
   "outputs": [
    {
     "data": {
      "text/html": [
       "<div>\n",
       "<style scoped>\n",
       "    .dataframe tbody tr th:only-of-type {\n",
       "        vertical-align: middle;\n",
       "    }\n",
       "\n",
       "    .dataframe tbody tr th {\n",
       "        vertical-align: top;\n",
       "    }\n",
       "\n",
       "    .dataframe thead th {\n",
       "        text-align: right;\n",
       "    }\n",
       "</style>\n",
       "<table border=\"1\" class=\"dataframe\">\n",
       "  <thead>\n",
       "    <tr style=\"text-align: right;\">\n",
       "      <th></th>\n",
       "      <th>0</th>\n",
       "      <th>1</th>\n",
       "      <th>2</th>\n",
       "      <th>3</th>\n",
       "      <th>4</th>\n",
       "      <th>5</th>\n",
       "      <th>6</th>\n",
       "      <th>7</th>\n",
       "      <th>8</th>\n",
       "      <th>9</th>\n",
       "      <th>...</th>\n",
       "      <th>775</th>\n",
       "      <th>776</th>\n",
       "      <th>777</th>\n",
       "      <th>778</th>\n",
       "      <th>779</th>\n",
       "      <th>780</th>\n",
       "      <th>781</th>\n",
       "      <th>782</th>\n",
       "      <th>783</th>\n",
       "      <th>784</th>\n",
       "    </tr>\n",
       "  </thead>\n",
       "  <tbody>\n",
       "    <tr>\n",
       "      <th>0</th>\n",
       "      <td>7</td>\n",
       "      <td>0</td>\n",
       "      <td>0</td>\n",
       "      <td>0</td>\n",
       "      <td>0</td>\n",
       "      <td>0</td>\n",
       "      <td>0</td>\n",
       "      <td>0</td>\n",
       "      <td>0</td>\n",
       "      <td>0</td>\n",
       "      <td>...</td>\n",
       "      <td>0</td>\n",
       "      <td>0</td>\n",
       "      <td>0</td>\n",
       "      <td>0</td>\n",
       "      <td>0</td>\n",
       "      <td>0</td>\n",
       "      <td>0</td>\n",
       "      <td>0</td>\n",
       "      <td>0</td>\n",
       "      <td>0</td>\n",
       "    </tr>\n",
       "    <tr>\n",
       "      <th>1</th>\n",
       "      <td>2</td>\n",
       "      <td>0</td>\n",
       "      <td>0</td>\n",
       "      <td>0</td>\n",
       "      <td>0</td>\n",
       "      <td>0</td>\n",
       "      <td>0</td>\n",
       "      <td>0</td>\n",
       "      <td>0</td>\n",
       "      <td>0</td>\n",
       "      <td>...</td>\n",
       "      <td>0</td>\n",
       "      <td>0</td>\n",
       "      <td>0</td>\n",
       "      <td>0</td>\n",
       "      <td>0</td>\n",
       "      <td>0</td>\n",
       "      <td>0</td>\n",
       "      <td>0</td>\n",
       "      <td>0</td>\n",
       "      <td>0</td>\n",
       "    </tr>\n",
       "    <tr>\n",
       "      <th>2</th>\n",
       "      <td>1</td>\n",
       "      <td>0</td>\n",
       "      <td>0</td>\n",
       "      <td>0</td>\n",
       "      <td>0</td>\n",
       "      <td>0</td>\n",
       "      <td>0</td>\n",
       "      <td>0</td>\n",
       "      <td>0</td>\n",
       "      <td>0</td>\n",
       "      <td>...</td>\n",
       "      <td>0</td>\n",
       "      <td>0</td>\n",
       "      <td>0</td>\n",
       "      <td>0</td>\n",
       "      <td>0</td>\n",
       "      <td>0</td>\n",
       "      <td>0</td>\n",
       "      <td>0</td>\n",
       "      <td>0</td>\n",
       "      <td>0</td>\n",
       "    </tr>\n",
       "    <tr>\n",
       "      <th>3</th>\n",
       "      <td>0</td>\n",
       "      <td>0</td>\n",
       "      <td>0</td>\n",
       "      <td>0</td>\n",
       "      <td>0</td>\n",
       "      <td>0</td>\n",
       "      <td>0</td>\n",
       "      <td>0</td>\n",
       "      <td>0</td>\n",
       "      <td>0</td>\n",
       "      <td>...</td>\n",
       "      <td>0</td>\n",
       "      <td>0</td>\n",
       "      <td>0</td>\n",
       "      <td>0</td>\n",
       "      <td>0</td>\n",
       "      <td>0</td>\n",
       "      <td>0</td>\n",
       "      <td>0</td>\n",
       "      <td>0</td>\n",
       "      <td>0</td>\n",
       "    </tr>\n",
       "    <tr>\n",
       "      <th>4</th>\n",
       "      <td>4</td>\n",
       "      <td>0</td>\n",
       "      <td>0</td>\n",
       "      <td>0</td>\n",
       "      <td>0</td>\n",
       "      <td>0</td>\n",
       "      <td>0</td>\n",
       "      <td>0</td>\n",
       "      <td>0</td>\n",
       "      <td>0</td>\n",
       "      <td>...</td>\n",
       "      <td>0</td>\n",
       "      <td>0</td>\n",
       "      <td>0</td>\n",
       "      <td>0</td>\n",
       "      <td>0</td>\n",
       "      <td>0</td>\n",
       "      <td>0</td>\n",
       "      <td>0</td>\n",
       "      <td>0</td>\n",
       "      <td>0</td>\n",
       "    </tr>\n",
       "  </tbody>\n",
       "</table>\n",
       "<p>5 rows × 785 columns</p>\n",
       "</div>"
      ],
      "text/plain": [
       "   0    1    2    3    4    5    6    7    8    9    ...  775  776  777  778  \\\n",
       "0    7    0    0    0    0    0    0    0    0    0  ...    0    0    0    0   \n",
       "1    2    0    0    0    0    0    0    0    0    0  ...    0    0    0    0   \n",
       "2    1    0    0    0    0    0    0    0    0    0  ...    0    0    0    0   \n",
       "3    0    0    0    0    0    0    0    0    0    0  ...    0    0    0    0   \n",
       "4    4    0    0    0    0    0    0    0    0    0  ...    0    0    0    0   \n",
       "\n",
       "   779  780  781  782  783  784  \n",
       "0    0    0    0    0    0    0  \n",
       "1    0    0    0    0    0    0  \n",
       "2    0    0    0    0    0    0  \n",
       "3    0    0    0    0    0    0  \n",
       "4    0    0    0    0    0    0  \n",
       "\n",
       "[5 rows x 785 columns]"
      ]
     },
     "execution_count": 3,
     "metadata": {},
     "output_type": "execute_result"
    }
   ],
   "source": [
    "test_df = pd.read_csv('./mnist_test.csv', header = None)\n",
    "test_df.head()"
   ]
  },
  {
   "cell_type": "code",
   "execution_count": 4,
   "metadata": {
    "execution": {
     "iopub.execute_input": "2021-11-08T06:27:36.449513Z",
     "iopub.status.busy": "2021-11-08T06:27:36.449069Z",
     "iopub.status.idle": "2021-11-08T06:27:36.456279Z",
     "shell.execute_reply": "2021-11-08T06:27:36.455429Z",
     "shell.execute_reply.started": "2021-11-08T06:27:36.449341Z"
    }
   },
   "outputs": [
    {
     "data": {
      "text/plain": [
       "(60000, 785)"
      ]
     },
     "execution_count": 4,
     "metadata": {},
     "output_type": "execute_result"
    }
   ],
   "source": [
    "train_df.shape"
   ]
  },
  {
   "cell_type": "code",
   "execution_count": 5,
   "metadata": {
    "execution": {
     "iopub.execute_input": "2021-11-08T06:27:48.245145Z",
     "iopub.status.busy": "2021-11-08T06:27:48.244856Z",
     "iopub.status.idle": "2021-11-08T06:27:48.330256Z",
     "shell.execute_reply": "2021-11-08T06:27:48.329556Z",
     "shell.execute_reply.started": "2021-11-08T06:27:48.245098Z"
    }
   },
   "outputs": [],
   "source": [
    "X_train = train_df.drop([0], axis=1)\n",
    "y_train = train_df[0]"
   ]
  },
  {
   "cell_type": "code",
   "execution_count": 6,
   "metadata": {},
   "outputs": [],
   "source": [
    "X_test = test_df.drop([0], axis=1)\n",
    "y_test = test_df[0]"
   ]
  },
  {
   "cell_type": "code",
   "execution_count": 7,
   "metadata": {
    "execution": {
     "iopub.execute_input": "2021-11-08T06:27:53.026521Z",
     "iopub.status.busy": "2021-11-08T06:27:53.026216Z",
     "iopub.status.idle": "2021-11-08T06:27:53.031302Z",
     "shell.execute_reply": "2021-11-08T06:27:53.030364Z",
     "shell.execute_reply.started": "2021-11-08T06:27:53.026474Z"
    }
   },
   "outputs": [
    {
     "data": {
      "text/plain": [
       "(60000, 784)"
      ]
     },
     "execution_count": 7,
     "metadata": {},
     "output_type": "execute_result"
    }
   ],
   "source": [
    "X_train.shape"
   ]
  },
  {
   "cell_type": "code",
   "execution_count": 8,
   "metadata": {
    "execution": {
     "iopub.execute_input": "2021-11-08T06:28:05.999923Z",
     "iopub.status.busy": "2021-11-08T06:28:05.999645Z",
     "iopub.status.idle": "2021-11-08T06:28:07.315160Z",
     "shell.execute_reply": "2021-11-08T06:28:07.314467Z",
     "shell.execute_reply.started": "2021-11-08T06:28:05.999878Z"
    }
   },
   "outputs": [],
   "source": [
    "# Normalize the data\n",
    "X_train = X_train / 255.0\n",
    "X_test = X_test / 255.0"
   ]
  },
  {
   "cell_type": "code",
   "execution_count": 9,
   "metadata": {
    "execution": {
     "iopub.execute_input": "2021-11-08T06:28:13.859510Z",
     "iopub.status.busy": "2021-11-08T06:28:13.859174Z",
     "iopub.status.idle": "2021-11-08T06:28:13.866011Z",
     "shell.execute_reply": "2021-11-08T06:28:13.864181Z",
     "shell.execute_reply.started": "2021-11-08T06:28:13.859453Z"
    }
   },
   "outputs": [],
   "source": [
    "X_train = X_train.values.reshape(-1,28,28,1)\n",
    "X_test = X_test.values.reshape(-1,28,28,1)"
   ]
  },
  {
   "cell_type": "code",
   "execution_count": 10,
   "metadata": {
    "execution": {
     "iopub.execute_input": "2021-11-08T06:32:07.840219Z",
     "iopub.status.busy": "2021-11-08T06:32:07.839662Z",
     "iopub.status.idle": "2021-11-08T06:32:08.088465Z",
     "shell.execute_reply": "2021-11-08T06:32:08.087599Z",
     "shell.execute_reply.started": "2021-11-08T06:32:07.839983Z"
    }
   },
   "outputs": [
    {
     "data": {
      "text/plain": [
       "<matplotlib.image.AxesImage at 0x20f9e832b20>"
      ]
     },
     "execution_count": 10,
     "metadata": {},
     "output_type": "execute_result"
    },
    {
     "data": {
      "image/png": "[encoded data removed]",
      "text/plain": [
       "<Figure size 432x288 with 1 Axes>"
      ]
     },
     "metadata": {
      "needs_background": "light"
     },
     "output_type": "display_data"
    }
   ],
   "source": [
    "import matplotlib.pyplot as plt\n",
    "%matplotlib inline\n",
    "\n",
    "plt.imshow(X_train[0][:,:,0])"
   ]
  },
  {
   "cell_type": "code",
   "execution_count": 11,
   "metadata": {
    "execution": {
     "iopub.execute_input": "2021-11-08T06:59:30.186977Z",
     "iopub.status.busy": "2021-11-08T06:59:30.186693Z",
     "iopub.status.idle": "2021-11-08T06:59:30.191491Z",
     "shell.execute_reply": "2021-11-08T06:59:30.190455Z",
     "shell.execute_reply.started": "2021-11-08T06:59:30.186929Z"
    }
   },
   "outputs": [],
   "source": [
    "from sklearn import metrics\n",
    "import matplotlib.pyplot as plt\n",
    "import numpy as np\n",
    "import tensorflow as tf"
   ]
  },
  {
   "cell_type": "code",
   "execution_count": 12,
   "metadata": {
    "execution": {
     "iopub.execute_input": "2021-11-08T06:52:52.631730Z",
     "iopub.status.busy": "2021-11-08T06:52:52.631425Z",
     "iopub.status.idle": "2021-11-08T06:52:52.646796Z",
     "shell.execute_reply": "2021-11-08T06:52:52.646118Z",
     "shell.execute_reply.started": "2021-11-08T06:52:52.631681Z"
    }
   },
   "outputs": [],
   "source": [
    "y_train=tf.keras.utils.to_categorical(y_train,10)\n",
    "y_test=tf.keras.utils.to_categorical(y_test,10)"
   ]
  },
  {
   "cell_type": "code",
   "execution_count": 13,
   "metadata": {
    "execution": {
     "iopub.execute_input": "2021-11-08T06:41:11.338245Z",
     "iopub.status.busy": "2021-11-08T06:41:11.337953Z",
     "iopub.status.idle": "2021-11-08T06:41:11.382875Z",
     "shell.execute_reply": "2021-11-08T06:41:11.382137Z",
     "shell.execute_reply.started": "2021-11-08T06:41:11.338197Z"
    }
   },
   "outputs": [],
   "source": [
    "input_size = 784\n",
    "output_size = 10\n",
    "hidden_layer_size = 200\n",
    "\n",
    "model = tf.keras.Sequential([\n",
    "                            tf.keras.layers.Flatten(input_shape=(28,28,1)),\n",
    "                            tf.keras.layers.Dense(500, activation='tanh'),\n",
    "                            tf.keras.layers.Dense(200, activation='tanh'),\n",
    "                            tf.keras.layers.Dense(200, activation='relu'),   \n",
    "                            tf.keras.layers.Dense(output_size, activation='softmax')   \n",
    "                            ])"
   ]
  },
  {
   "cell_type": "code",
   "execution_count": 14,
   "metadata": {
    "execution": {
     "iopub.execute_input": "2021-11-08T06:41:16.433173Z",
     "iopub.status.busy": "2021-11-08T06:41:16.432872Z",
     "iopub.status.idle": "2021-11-08T06:41:16.442124Z",
     "shell.execute_reply": "2021-11-08T06:41:16.441049Z",
     "shell.execute_reply.started": "2021-11-08T06:41:16.433121Z"
    }
   },
   "outputs": [
    {
     "name": "stdout",
     "output_type": "stream",
     "text": [
      "Model: \"sequential\"\n",
      "_________________________________________________________________\n",
      " Layer (type)                Output Shape              Param #   \n",
      "=================================================================\n",
      " flatten (Flatten)           (None, 784)               0         \n",
      "                                                                 \n",
      " dense (Dense)               (None, 500)               392500    \n",
      "                                                                 \n",
      " dense_1 (Dense)             (None, 200)               100200    \n",
      "                                                                 \n",
      " dense_2 (Dense)             (None, 200)               40200     \n",
      "                                                                 \n",
      " dense_3 (Dense)             (None, 10)                2010      \n",
      "                                                                 \n",
      "=================================================================\n",
      "Total params: 534,910\n",
      "Trainable params: 534,910\n",
      "Non-trainable params: 0\n",
      "_________________________________________________________________\n"
     ]
    }
   ],
   "source": [
    "model.summary()"
   ]
  },
  {
   "cell_type": "code",
   "execution_count": 15,
   "metadata": {
    "execution": {
     "iopub.execute_input": "2021-11-08T06:41:33.468289Z",
     "iopub.status.busy": "2021-11-08T06:41:33.468008Z",
     "iopub.status.idle": "2021-11-08T06:41:33.505746Z",
     "shell.execute_reply": "2021-11-08T06:41:33.505097Z",
     "shell.execute_reply.started": "2021-11-08T06:41:33.468242Z"
    }
   },
   "outputs": [],
   "source": [
    "model.compile(optimizer='adam', loss='categorical_crossentropy', metrics=['accuracy'])"
   ]
  },
  {
   "cell_type": "code",
   "execution_count": 16,
   "metadata": {
    "execution": {
     "iopub.execute_input": "2021-11-08T06:41:46.802507Z",
     "iopub.status.busy": "2021-11-08T06:41:46.802162Z",
     "iopub.status.idle": "2021-11-08T06:42:08.796945Z",
     "shell.execute_reply": "2021-11-08T06:42:08.796275Z",
     "shell.execute_reply.started": "2021-11-08T06:41:46.802453Z"
    }
   },
   "outputs": [
    {
     "name": "stdout",
     "output_type": "stream",
     "text": [
      "Epoch 1/100\n",
      "6/6 - 2s - loss: 1.5818 - accuracy: 0.5922 - val_loss: 0.7990 - val_accuracy: 0.8245 - 2s/epoch - 311ms/step\n",
      "Epoch 2/100\n",
      "6/6 - 1s - loss: 0.6261 - accuracy: 0.8400 - val_loss: 0.4344 - val_accuracy: 0.8803 - 1s/epoch - 171ms/step\n",
      "Epoch 3/100\n",
      "6/6 - 1s - loss: 0.4014 - accuracy: 0.8819 - val_loss: 0.3336 - val_accuracy: 0.9003 - 1s/epoch - 179ms/step\n",
      "Epoch 4/100\n",
      "6/6 - 1s - loss: 0.3234 - accuracy: 0.9028 - val_loss: 0.2843 - val_accuracy: 0.9162 - 1s/epoch - 168ms/step\n",
      "Epoch 5/100\n",
      "6/6 - 1s - loss: 0.2777 - accuracy: 0.9163 - val_loss: 0.2512 - val_accuracy: 0.9244 - 1s/epoch - 170ms/step\n",
      "Epoch 6/100\n",
      "6/6 - 1s - loss: 0.2463 - accuracy: 0.9263 - val_loss: 0.2269 - val_accuracy: 0.9312 - 1s/epoch - 167ms/step\n",
      "Epoch 7/100\n",
      "6/6 - 1s - loss: 0.2220 - accuracy: 0.9334 - val_loss: 0.2082 - val_accuracy: 0.9377 - 1s/epoch - 167ms/step\n",
      "Epoch 8/100\n",
      "6/6 - 1s - loss: 0.2024 - accuracy: 0.9396 - val_loss: 0.1922 - val_accuracy: 0.9432 - 978ms/epoch - 163ms/step\n",
      "Epoch 9/100\n",
      "6/6 - 1s - loss: 0.1863 - accuracy: 0.9451 - val_loss: 0.1798 - val_accuracy: 0.9459 - 1s/epoch - 168ms/step\n",
      "Epoch 10/100\n",
      "6/6 - 1s - loss: 0.1728 - accuracy: 0.9493 - val_loss: 0.1691 - val_accuracy: 0.9493 - 971ms/epoch - 162ms/step\n",
      "Epoch 11/100\n",
      "6/6 - 1s - loss: 0.1613 - accuracy: 0.9523 - val_loss: 0.1616 - val_accuracy: 0.9522 - 966ms/epoch - 161ms/step\n",
      "Epoch 12/100\n",
      "6/6 - 1s - loss: 0.1512 - accuracy: 0.9553 - val_loss: 0.1537 - val_accuracy: 0.9542 - 980ms/epoch - 163ms/step\n",
      "Epoch 13/100\n",
      "6/6 - 1s - loss: 0.1427 - accuracy: 0.9582 - val_loss: 0.1449 - val_accuracy: 0.9558 - 953ms/epoch - 159ms/step\n",
      "Epoch 14/100\n",
      "6/6 - 1s - loss: 0.1341 - accuracy: 0.9609 - val_loss: 0.1398 - val_accuracy: 0.9574 - 977ms/epoch - 163ms/step\n",
      "Epoch 15/100\n",
      "6/6 - 1s - loss: 0.1269 - accuracy: 0.9632 - val_loss: 0.1335 - val_accuracy: 0.9601 - 958ms/epoch - 160ms/step\n",
      "Epoch 16/100\n",
      "6/6 - 1s - loss: 0.1204 - accuracy: 0.9649 - val_loss: 0.1282 - val_accuracy: 0.9607 - 966ms/epoch - 161ms/step\n",
      "Epoch 17/100\n",
      "6/6 - 1s - loss: 0.1140 - accuracy: 0.9672 - val_loss: 0.1247 - val_accuracy: 0.9629 - 960ms/epoch - 160ms/step\n",
      "Epoch 18/100\n",
      "6/6 - 1s - loss: 0.1079 - accuracy: 0.9686 - val_loss: 0.1199 - val_accuracy: 0.9629 - 976ms/epoch - 163ms/step\n",
      "Epoch 19/100\n",
      "6/6 - 1s - loss: 0.1024 - accuracy: 0.9706 - val_loss: 0.1153 - val_accuracy: 0.9645 - 993ms/epoch - 166ms/step\n",
      "Epoch 20/100\n",
      "6/6 - 1s - loss: 0.0971 - accuracy: 0.9724 - val_loss: 0.1115 - val_accuracy: 0.9653 - 985ms/epoch - 164ms/step\n",
      "Epoch 21/100\n",
      "6/6 - 1s - loss: 0.0924 - accuracy: 0.9738 - val_loss: 0.1082 - val_accuracy: 0.9662 - 1s/epoch - 169ms/step\n",
      "Epoch 22/100\n",
      "6/6 - 1s - loss: 0.0878 - accuracy: 0.9753 - val_loss: 0.1057 - val_accuracy: 0.9665 - 1s/epoch - 168ms/step\n",
      "Epoch 23/100\n",
      "6/6 - 1s - loss: 0.0837 - accuracy: 0.9765 - val_loss: 0.1025 - val_accuracy: 0.9685 - 1s/epoch - 186ms/step\n",
      "Epoch 24/100\n",
      "6/6 - 1s - loss: 0.0795 - accuracy: 0.9776 - val_loss: 0.1000 - val_accuracy: 0.9689 - 1s/epoch - 181ms/step\n",
      "Epoch 25/100\n",
      "6/6 - 1s - loss: 0.0756 - accuracy: 0.9791 - val_loss: 0.0973 - val_accuracy: 0.9694 - 960ms/epoch - 160ms/step\n",
      "Epoch 26/100\n",
      "6/6 - 1s - loss: 0.0720 - accuracy: 0.9800 - val_loss: 0.0947 - val_accuracy: 0.9708 - 1s/epoch - 172ms/step\n",
      "Epoch 27/100\n",
      "6/6 - 1s - loss: 0.0684 - accuracy: 0.9810 - val_loss: 0.0923 - val_accuracy: 0.9715 - 954ms/epoch - 159ms/step\n",
      "Epoch 28/100\n",
      "6/6 - 1s - loss: 0.0655 - accuracy: 0.9818 - val_loss: 0.0901 - val_accuracy: 0.9722 - 1s/epoch - 174ms/step\n",
      "Epoch 29/100\n",
      "6/6 - 1s - loss: 0.0623 - accuracy: 0.9829 - val_loss: 0.0890 - val_accuracy: 0.9722 - 982ms/epoch - 164ms/step\n",
      "Epoch 30/100\n",
      "6/6 - 1s - loss: 0.0594 - accuracy: 0.9840 - val_loss: 0.0862 - val_accuracy: 0.9725 - 1s/epoch - 168ms/step\n",
      "Epoch 31/100\n",
      "6/6 - 1s - loss: 0.0567 - accuracy: 0.9844 - val_loss: 0.0859 - val_accuracy: 0.9735 - 1s/epoch - 180ms/step\n",
      "Epoch 32/100\n",
      "6/6 - 1s - loss: 0.0540 - accuracy: 0.9849 - val_loss: 0.0841 - val_accuracy: 0.9734 - 1s/epoch - 198ms/step\n",
      "Epoch 33/100\n",
      "6/6 - 1s - loss: 0.0514 - accuracy: 0.9861 - val_loss: 0.0813 - val_accuracy: 0.9744 - 1s/epoch - 189ms/step\n",
      "Epoch 34/100\n",
      "6/6 - 1s - loss: 0.0484 - accuracy: 0.9870 - val_loss: 0.0801 - val_accuracy: 0.9754 - 987ms/epoch - 165ms/step\n",
      "Epoch 35/100\n",
      "6/6 - 1s - loss: 0.0462 - accuracy: 0.9877 - val_loss: 0.0788 - val_accuracy: 0.9750 - 945ms/epoch - 158ms/step\n",
      "Epoch 36/100\n",
      "6/6 - 1s - loss: 0.0438 - accuracy: 0.9886 - val_loss: 0.0783 - val_accuracy: 0.9761 - 939ms/epoch - 157ms/step\n",
      "Epoch 37/100\n",
      "6/6 - 1s - loss: 0.0423 - accuracy: 0.9892 - val_loss: 0.0770 - val_accuracy: 0.9759 - 985ms/epoch - 164ms/step\n",
      "Epoch 38/100\n",
      "6/6 - 1s - loss: 0.0399 - accuracy: 0.9900 - val_loss: 0.0772 - val_accuracy: 0.9760 - 1s/epoch - 174ms/step\n",
      "Epoch 39/100\n",
      "6/6 - 1s - loss: 0.0382 - accuracy: 0.9902 - val_loss: 0.0767 - val_accuracy: 0.9757 - 1s/epoch - 177ms/step\n",
      "Epoch 40/100\n",
      "6/6 - 1s - loss: 0.0361 - accuracy: 0.9908 - val_loss: 0.0751 - val_accuracy: 0.9765 - 947ms/epoch - 158ms/step\n",
      "Epoch 41/100\n",
      "6/6 - 1s - loss: 0.0344 - accuracy: 0.9918 - val_loss: 0.0736 - val_accuracy: 0.9768 - 1s/epoch - 169ms/step\n",
      "Epoch 42/100\n",
      "6/6 - 1s - loss: 0.0328 - accuracy: 0.9918 - val_loss: 0.0726 - val_accuracy: 0.9774 - 1s/epoch - 179ms/step\n",
      "Epoch 43/100\n",
      "6/6 - 1s - loss: 0.0312 - accuracy: 0.9930 - val_loss: 0.0734 - val_accuracy: 0.9772 - 1s/epoch - 174ms/step\n",
      "Epoch 44/100\n",
      "6/6 - 1s - loss: 0.0300 - accuracy: 0.9931 - val_loss: 0.0714 - val_accuracy: 0.9770 - 1s/epoch - 185ms/step\n",
      "Epoch 45/100\n",
      "6/6 - 1s - loss: 0.0287 - accuracy: 0.9934 - val_loss: 0.0708 - val_accuracy: 0.9774 - 1s/epoch - 171ms/step\n",
      "Epoch 46/100\n",
      "6/6 - 1s - loss: 0.0269 - accuracy: 0.9941 - val_loss: 0.0707 - val_accuracy: 0.9766 - 1s/epoch - 167ms/step\n",
      "Epoch 47/100\n",
      "6/6 - 1s - loss: 0.0259 - accuracy: 0.9942 - val_loss: 0.0705 - val_accuracy: 0.9774 - 972ms/epoch - 162ms/step\n",
      "Epoch 48/100\n",
      "6/6 - 1s - loss: 0.0248 - accuracy: 0.9947 - val_loss: 0.0693 - val_accuracy: 0.9783 - 944ms/epoch - 157ms/step\n",
      "Epoch 49/100\n",
      "6/6 - 1s - loss: 0.0235 - accuracy: 0.9952 - val_loss: 0.0702 - val_accuracy: 0.9775 - 989ms/epoch - 165ms/step\n",
      "Epoch 50/100\n",
      "6/6 - 1s - loss: 0.0223 - accuracy: 0.9954 - val_loss: 0.0690 - val_accuracy: 0.9777 - 944ms/epoch - 157ms/step\n",
      "Epoch 51/100\n",
      "6/6 - 1s - loss: 0.0209 - accuracy: 0.9960 - val_loss: 0.0686 - val_accuracy: 0.9783 - 956ms/epoch - 159ms/step\n",
      "Epoch 52/100\n",
      "6/6 - 1s - loss: 0.0199 - accuracy: 0.9962 - val_loss: 0.0693 - val_accuracy: 0.9785 - 995ms/epoch - 166ms/step\n",
      "Epoch 53/100\n",
      "6/6 - 1s - loss: 0.0190 - accuracy: 0.9963 - val_loss: 0.0682 - val_accuracy: 0.9788 - 1s/epoch - 175ms/step\n",
      "Epoch 54/100\n",
      "6/6 - 1s - loss: 0.0179 - accuracy: 0.9968 - val_loss: 0.0691 - val_accuracy: 0.9781 - 984ms/epoch - 164ms/step\n",
      "Epoch 55/100\n",
      "6/6 - 1s - loss: 0.0171 - accuracy: 0.9972 - val_loss: 0.0690 - val_accuracy: 0.9775 - 1s/epoch - 182ms/step\n",
      "Epoch 56/100\n",
      "6/6 - 1s - loss: 0.0161 - accuracy: 0.9975 - val_loss: 0.0691 - val_accuracy: 0.9780 - 1s/epoch - 170ms/step\n",
      "Epoch 57/100\n",
      "6/6 - 1s - loss: 0.0152 - accuracy: 0.9975 - val_loss: 0.0678 - val_accuracy: 0.9783 - 943ms/epoch - 157ms/step\n",
      "Epoch 58/100\n",
      "6/6 - 1s - loss: 0.0143 - accuracy: 0.9980 - val_loss: 0.0680 - val_accuracy: 0.9786 - 952ms/epoch - 159ms/step\n",
      "Epoch 59/100\n",
      "6/6 - 1s - loss: 0.0137 - accuracy: 0.9980 - val_loss: 0.0672 - val_accuracy: 0.9792 - 953ms/epoch - 159ms/step\n",
      "Epoch 60/100\n",
      "6/6 - 1s - loss: 0.0129 - accuracy: 0.9983 - val_loss: 0.0675 - val_accuracy: 0.9790 - 949ms/epoch - 158ms/step\n",
      "Epoch 61/100\n",
      "6/6 - 1s - loss: 0.0124 - accuracy: 0.9984 - val_loss: 0.0689 - val_accuracy: 0.9787 - 953ms/epoch - 159ms/step\n",
      "Epoch 62/100\n",
      "6/6 - 1s - loss: 0.0117 - accuracy: 0.9985 - val_loss: 0.0676 - val_accuracy: 0.9785 - 950ms/epoch - 158ms/step\n",
      "Epoch 63/100\n",
      "6/6 - 1s - loss: 0.0112 - accuracy: 0.9987 - val_loss: 0.0681 - val_accuracy: 0.9783 - 986ms/epoch - 164ms/step\n",
      "Epoch 64/100\n",
      "6/6 - 1s - loss: 0.0104 - accuracy: 0.9989 - val_loss: 0.0688 - val_accuracy: 0.9780 - 1s/epoch - 175ms/step\n",
      "Epoch 65/100\n",
      "6/6 - 1s - loss: 0.0101 - accuracy: 0.9990 - val_loss: 0.0687 - val_accuracy: 0.9784 - 1s/epoch - 181ms/step\n",
      "Epoch 66/100\n",
      "6/6 - 1s - loss: 0.0097 - accuracy: 0.9990 - val_loss: 0.0689 - val_accuracy: 0.9786 - 1s/epoch - 172ms/step\n",
      "Epoch 67/100\n",
      "6/6 - 1s - loss: 0.0093 - accuracy: 0.9991 - val_loss: 0.0688 - val_accuracy: 0.9790 - 997ms/epoch - 166ms/step\n"
     ]
    },
    {
     "name": "stdout",
     "output_type": "stream",
     "text": [
      "Epoch 68/100\n",
      "6/6 - 1s - loss: 0.0088 - accuracy: 0.9992 - val_loss: 0.0682 - val_accuracy: 0.9792 - 987ms/epoch - 165ms/step\n",
      "Epoch 69/100\n",
      "6/6 - 1s - loss: 0.0081 - accuracy: 0.9995 - val_loss: 0.0682 - val_accuracy: 0.9792 - 974ms/epoch - 162ms/step\n",
      "Epoch 70/100\n",
      "6/6 - 1s - loss: 0.0078 - accuracy: 0.9995 - val_loss: 0.0683 - val_accuracy: 0.9787 - 986ms/epoch - 164ms/step\n",
      "Epoch 71/100\n",
      "6/6 - 1s - loss: 0.0074 - accuracy: 0.9996 - val_loss: 0.0681 - val_accuracy: 0.9795 - 988ms/epoch - 165ms/step\n",
      "Epoch 72/100\n",
      "6/6 - 1s - loss: 0.0071 - accuracy: 0.9996 - val_loss: 0.0695 - val_accuracy: 0.9790 - 987ms/epoch - 165ms/step\n",
      "Epoch 73/100\n",
      "6/6 - 1s - loss: 0.0068 - accuracy: 0.9997 - val_loss: 0.0692 - val_accuracy: 0.9794 - 990ms/epoch - 165ms/step\n",
      "Epoch 74/100\n",
      "6/6 - 1s - loss: 0.0065 - accuracy: 0.9997 - val_loss: 0.0693 - val_accuracy: 0.9792 - 982ms/epoch - 164ms/step\n",
      "Epoch 75/100\n",
      "6/6 - 1s - loss: 0.0062 - accuracy: 0.9997 - val_loss: 0.0697 - val_accuracy: 0.9792 - 972ms/epoch - 162ms/step\n",
      "Epoch 76/100\n",
      "6/6 - 1s - loss: 0.0058 - accuracy: 0.9997 - val_loss: 0.0694 - val_accuracy: 0.9797 - 981ms/epoch - 164ms/step\n",
      "Epoch 77/100\n",
      "6/6 - 1s - loss: 0.0055 - accuracy: 0.9998 - val_loss: 0.0699 - val_accuracy: 0.9789 - 981ms/epoch - 164ms/step\n",
      "Epoch 78/100\n",
      "6/6 - 1s - loss: 0.0052 - accuracy: 0.9998 - val_loss: 0.0699 - val_accuracy: 0.9796 - 966ms/epoch - 161ms/step\n",
      "Epoch 79/100\n",
      "6/6 - 1s - loss: 0.0051 - accuracy: 0.9998 - val_loss: 0.0702 - val_accuracy: 0.9806 - 966ms/epoch - 161ms/step\n",
      "Epoch 80/100\n",
      "6/6 - 1s - loss: 0.0049 - accuracy: 0.9998 - val_loss: 0.0721 - val_accuracy: 0.9789 - 970ms/epoch - 162ms/step\n",
      "Epoch 81/100\n",
      "6/6 - 1s - loss: 0.0047 - accuracy: 0.9998 - val_loss: 0.0709 - val_accuracy: 0.9795 - 964ms/epoch - 161ms/step\n",
      "Epoch 82/100\n",
      "6/6 - 1s - loss: 0.0045 - accuracy: 0.9999 - val_loss: 0.0705 - val_accuracy: 0.9801 - 971ms/epoch - 162ms/step\n",
      "Epoch 83/100\n",
      "6/6 - 1s - loss: 0.0043 - accuracy: 0.9998 - val_loss: 0.0704 - val_accuracy: 0.9799 - 970ms/epoch - 162ms/step\n",
      "Epoch 84/100\n",
      "6/6 - 1s - loss: 0.0041 - accuracy: 0.9999 - val_loss: 0.0713 - val_accuracy: 0.9799 - 998ms/epoch - 166ms/step\n",
      "Epoch 85/100\n",
      "6/6 - 1s - loss: 0.0039 - accuracy: 0.9999 - val_loss: 0.0715 - val_accuracy: 0.9797 - 1s/epoch - 170ms/step\n",
      "Epoch 86/100\n",
      "6/6 - 1s - loss: 0.0038 - accuracy: 0.9999 - val_loss: 0.0720 - val_accuracy: 0.9795 - 981ms/epoch - 164ms/step\n",
      "Epoch 87/100\n",
      "6/6 - 1s - loss: 0.0037 - accuracy: 0.9999 - val_loss: 0.0720 - val_accuracy: 0.9803 - 985ms/epoch - 164ms/step\n",
      "Epoch 88/100\n",
      "6/6 - 1s - loss: 0.0035 - accuracy: 0.9999 - val_loss: 0.0718 - val_accuracy: 0.9797 - 1s/epoch - 182ms/step\n",
      "Epoch 89/100\n",
      "6/6 - 1s - loss: 0.0034 - accuracy: 0.9999 - val_loss: 0.0722 - val_accuracy: 0.9802 - 1s/epoch - 184ms/step\n",
      "Epoch 90/100\n",
      "6/6 - 1s - loss: 0.0032 - accuracy: 1.0000 - val_loss: 0.0720 - val_accuracy: 0.9801 - 1s/epoch - 173ms/step\n",
      "Epoch 91/100\n",
      "6/6 - 1s - loss: 0.0031 - accuracy: 1.0000 - val_loss: 0.0735 - val_accuracy: 0.9790 - 1s/epoch - 184ms/step\n",
      "Epoch 92/100\n",
      "6/6 - 1s - loss: 0.0031 - accuracy: 1.0000 - val_loss: 0.0730 - val_accuracy: 0.9801 - 974ms/epoch - 162ms/step\n",
      "Epoch 93/100\n",
      "6/6 - 1s - loss: 0.0029 - accuracy: 1.0000 - val_loss: 0.0725 - val_accuracy: 0.9803 - 1s/epoch - 168ms/step\n",
      "Epoch 94/100\n",
      "6/6 - 1s - loss: 0.0028 - accuracy: 1.0000 - val_loss: 0.0730 - val_accuracy: 0.9802 - 949ms/epoch - 158ms/step\n",
      "Epoch 95/100\n",
      "6/6 - 1s - loss: 0.0027 - accuracy: 1.0000 - val_loss: 0.0739 - val_accuracy: 0.9800 - 945ms/epoch - 158ms/step\n",
      "Epoch 96/100\n",
      "6/6 - 1s - loss: 0.0026 - accuracy: 1.0000 - val_loss: 0.0737 - val_accuracy: 0.9799 - 1s/epoch - 173ms/step\n",
      "Epoch 97/100\n",
      "6/6 - 1s - loss: 0.0025 - accuracy: 1.0000 - val_loss: 0.0733 - val_accuracy: 0.9801 - 962ms/epoch - 160ms/step\n",
      "Epoch 98/100\n",
      "6/6 - 1s - loss: 0.0024 - accuracy: 1.0000 - val_loss: 0.0741 - val_accuracy: 0.9803 - 981ms/epoch - 164ms/step\n",
      "Epoch 99/100\n",
      "6/6 - 1s - loss: 0.0023 - accuracy: 1.0000 - val_loss: 0.0742 - val_accuracy: 0.9799 - 944ms/epoch - 157ms/step\n",
      "Epoch 100/100\n",
      "6/6 - 1s - loss: 0.0023 - accuracy: 1.0000 - val_loss: 0.0737 - val_accuracy: 0.9799 - 927ms/epoch - 154ms/step\n"
     ]
    },
    {
     "data": {
      "text/plain": [
       "<keras.callbacks.History at 0x20fb3f19730>"
      ]
     },
     "execution_count": 16,
     "metadata": {},
     "output_type": "execute_result"
    }
   ],
   "source": [
    "NUM_EPOCHS = 100\n",
    "\n",
    "model.fit(X_train,y_train, batch_size=10000, epochs = NUM_EPOCHS, validation_data=(X_test,y_test), verbose=2)"
   ]
  },
  {
   "cell_type": "code",
   "execution_count": 17,
   "metadata": {
    "execution": {
     "iopub.execute_input": "2021-11-08T06:42:17.550423Z",
     "iopub.status.busy": "2021-11-08T06:42:17.550120Z",
     "iopub.status.idle": "2021-11-08T06:42:17.778754Z",
     "shell.execute_reply": "2021-11-08T06:42:17.778021Z",
     "shell.execute_reply.started": "2021-11-08T06:42:17.550373Z"
    }
   },
   "outputs": [],
   "source": [
    "y_predict = model.predict(X_test)"
   ]
  },
  {
   "cell_type": "code",
   "execution_count": 18,
   "metadata": {
    "execution": {
     "iopub.execute_input": "2021-11-08T06:49:20.461512Z",
     "iopub.status.busy": "2021-11-08T06:49:20.461189Z",
     "iopub.status.idle": "2021-11-08T06:49:20.528245Z",
     "shell.execute_reply": "2021-11-08T06:49:20.527483Z",
     "shell.execute_reply.started": "2021-11-08T06:49:20.461461Z"
    },
    "scrolled": true
   },
   "outputs": [
    {
     "name": "stdout",
     "output_type": "stream",
     "text": [
      "[[ 970    0    2    1    1    1    2    1    2    0]\n",
      " [   0 1125    2    2    0    1    2    1    2    0]\n",
      " [   3    1 1009    1    1    1    3    6    6    1]\n",
      " [   0    0    4  992    1    4    0    3    3    3]\n",
      " [   1    1    4    1  958    2    4    2    0    9]\n",
      " [   2    0    0   11    1  863    7    1    5    2]\n",
      " [   4    2    1    1    3    3  943    0    1    0]\n",
      " [   2    3    7    0    2    0    0 1004    3    7]\n",
      " [   3    0    3    6    2    3    2    3  949    3]\n",
      " [   2    2    0    4    8    1    0    4    2  986]]\n",
      "Accuracy: 0.9799\n",
      "F1 score: 0.9797007077933879\n",
      "Recall: 0.9796459491444922\n",
      "Precision: 0.9797756193348794\n"
     ]
    }
   ],
   "source": [
    "y_pred = []\n",
    "for val in y_predict:\n",
    "    y_pred.append(np.argmax(val))\n",
    "    \n",
    "accuracy = metrics.accuracy_score(np.argmax(y_test,axis = 1) ,y_pred)\n",
    "recall = metrics.recall_score(np.argmax(y_test,axis = 1) ,y_pred,average='macro')\n",
    "precision = metrics.precision_score(np.argmax(y_test,axis = 1) ,y_pred,average='macro')\n",
    "f1_score = metrics.f1_score(np.argmax(y_test,axis = 1) ,y_pred,average='macro')\n",
    "cm = metrics.confusion_matrix(np.argmax(y_test,axis = 1) ,y_pred)\n",
    "print(cm)\n",
    "print(\"Accuracy:\",accuracy)\n",
    "print(\"F1 score:\",f1_score)\n",
    "print(\"Recall:\",recall)\n",
    "print(\"Precision:\",precision)"
   ]
  },
  {
   "cell_type": "code",
   "execution_count": 24,
   "metadata": {},
   "outputs": [
    {
     "name": "stdout",
     "output_type": "stream",
     "text": [
      "[[2.0565690e-07 2.1230742e-09 8.0920806e-08 ... 9.9999142e-01\n",
      "  1.2735329e-07 1.8363471e-06]\n",
      " [2.0940069e-10 1.4945740e-06 9.9999833e-01 ... 6.0203090e-13\n",
      "  5.1533946e-09 7.5467498e-14]\n",
      " [2.2194332e-08 9.9995172e-01 2.9003515e-06 ... 1.2702670e-05\n",
      "  3.1207986e-05 1.5652677e-07]\n",
      " ...\n",
      " [4.5512964e-13 1.0242415e-11 4.1352880e-12 ... 1.4074355e-07\n",
      "  6.7173422e-09 7.6827540e-08]\n",
      " [2.8338842e-11 3.5637482e-10 1.4655229e-09 ... 3.2153580e-09\n",
      "  6.4917558e-06 2.4855882e-13]\n",
      " [1.1245310e-09 4.1014375e-10 4.3314175e-11 ... 6.6690705e-14\n",
      "  9.2660095e-11 5.8724130e-11]]\n"
     ]
    }
   ],
   "source": [
    "print(y_predict)"
   ]
  }
 ],
 "metadata": {
  "kernelspec": {
   "display_name": "Python 3 (ipykernel)",
   "language": "python",
   "name": "python3"
  },
  "language_info": {
   "codemirror_mode": {
    "name": "ipython",
    "version": 3
   },
   "file_extension": ".py",
   "mimetype": "text/x-python",
   "name": "python",
   "nbconvert_exporter": "python",
   "pygments_lexer": "ipython3",
   "version": "3.9.6"
  }
 },
 "nbformat": 4,
 "nbformat_minor": 4
}
