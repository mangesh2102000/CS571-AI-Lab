{
 "cells": [
  {
   "cell_type": "code",
   "execution_count": 1,
   "metadata": {
    "_cell_guid": "b1076dfc-b9ad-4769-8c92-a6c4dae69d19",
    "_uuid": "8f2839f25d086af736a60e9eeb907d3b93b6e0e5",
    "execution": {
     "iopub.execute_input": "2021-11-08T06:27:08.590608Z",
     "iopub.status.busy": "2021-11-08T06:27:08.590296Z",
     "iopub.status.idle": "2021-11-08T06:27:09.104699Z",
     "shell.execute_reply": "2021-11-08T06:27:09.103313Z",
     "shell.execute_reply.started": "2021-11-08T06:27:08.590559Z"
    }
   },
   "outputs": [
    {
     "name": "stdout",
     "output_type": "stream",
     "text": [
      "./mnist.ipynb\n",
      "./mnist_test.csv\n",
      "./mnist_train.csv\n",
      "./.ipynb_checkpoints\\mnist-checkpoint.ipynb\n"
     ]
    }
   ],
   "source": [
    "import numpy as np\n",
    "import pandas as pd\n",
    "\n",
    "import os\n",
    "for dirname, _, filenames in os.walk('./'):\n",
    "    for filename in filenames:\n",
    "        print(os.path.join(dirname, filename))\n"
   ]
  },
  {
   "cell_type": "code",
   "execution_count": 2,
   "metadata": {
    "execution": {
     "iopub.execute_input": "2021-11-08T06:27:20.183131Z",
     "iopub.status.busy": "2021-11-08T06:27:20.182836Z",
     "iopub.status.idle": "2021-11-08T06:27:23.579143Z",
     "shell.execute_reply": "2021-11-08T06:27:23.578456Z",
     "shell.execute_reply.started": "2021-11-08T06:27:20.183082Z"
    }
   },
   "outputs": [
    {
     "data": {
      "text/html": [
       "<div>\n",
       "<style scoped>\n",
       "    .dataframe tbody tr th:only-of-type {\n",
       "        vertical-align: middle;\n",
       "    }\n",
       "\n",
       "    .dataframe tbody tr th {\n",
       "        vertical-align: top;\n",
       "    }\n",
       "\n",
       "    .dataframe thead th {\n",
       "        text-align: right;\n",
       "    }\n",
       "</style>\n",
       "<table border=\"1\" class=\"dataframe\">\n",
       "  <thead>\n",
       "    <tr style=\"text-align: right;\">\n",
       "      <th></th>\n",
       "      <th>0</th>\n",
       "      <th>1</th>\n",
       "      <th>2</th>\n",
       "      <th>3</th>\n",
       "      <th>4</th>\n",
       "      <th>5</th>\n",
       "      <th>6</th>\n",
       "      <th>7</th>\n",
       "      <th>8</th>\n",
       "      <th>9</th>\n",
       "      <th>...</th>\n",
       "      <th>775</th>\n",
       "      <th>776</th>\n",
       "      <th>777</th>\n",
       "      <th>778</th>\n",
       "      <th>779</th>\n",
       "      <th>780</th>\n",
       "      <th>781</th>\n",
       "      <th>782</th>\n",
       "      <th>783</th>\n",
       "      <th>784</th>\n",
       "    </tr>\n",
       "  </thead>\n",
       "  <tbody>\n",
       "    <tr>\n",
       "      <th>0</th>\n",
       "      <td>5</td>\n",
       "      <td>0</td>\n",
       "      <td>0</td>\n",
       "      <td>0</td>\n",
       "      <td>0</td>\n",
       "      <td>0</td>\n",
       "      <td>0</td>\n",
       "      <td>0</td>\n",
       "      <td>0</td>\n",
       "      <td>0</td>\n",
       "      <td>...</td>\n",
       "      <td>0</td>\n",
       "      <td>0</td>\n",
       "      <td>0</td>\n",
       "      <td>0</td>\n",
       "      <td>0</td>\n",
       "      <td>0</td>\n",
       "      <td>0</td>\n",
       "      <td>0</td>\n",
       "      <td>0</td>\n",
       "      <td>0</td>\n",
       "    </tr>\n",
       "    <tr>\n",
       "      <th>1</th>\n",
       "      <td>0</td>\n",
       "      <td>0</td>\n",
       "      <td>0</td>\n",
       "      <td>0</td>\n",
       "      <td>0</td>\n",
       "      <td>0</td>\n",
       "      <td>0</td>\n",
       "      <td>0</td>\n",
       "      <td>0</td>\n",
       "      <td>0</td>\n",
       "      <td>...</td>\n",
       "      <td>0</td>\n",
       "      <td>0</td>\n",
       "      <td>0</td>\n",
       "      <td>0</td>\n",
       "      <td>0</td>\n",
       "      <td>0</td>\n",
       "      <td>0</td>\n",
       "      <td>0</td>\n",
       "      <td>0</td>\n",
       "      <td>0</td>\n",
       "    </tr>\n",
       "    <tr>\n",
       "      <th>2</th>\n",
       "      <td>4</td>\n",
       "      <td>0</td>\n",
       "      <td>0</td>\n",
       "      <td>0</td>\n",
       "      <td>0</td>\n",
       "      <td>0</td>\n",
       "      <td>0</td>\n",
       "      <td>0</td>\n",
       "      <td>0</td>\n",
       "      <td>0</td>\n",
       "      <td>...</td>\n",
       "      <td>0</td>\n",
       "      <td>0</td>\n",
       "      <td>0</td>\n",
       "      <td>0</td>\n",
       "      <td>0</td>\n",
       "      <td>0</td>\n",
       "      <td>0</td>\n",
       "      <td>0</td>\n",
       "      <td>0</td>\n",
       "      <td>0</td>\n",
       "    </tr>\n",
       "    <tr>\n",
       "      <th>3</th>\n",
       "      <td>1</td>\n",
       "      <td>0</td>\n",
       "      <td>0</td>\n",
       "      <td>0</td>\n",
       "      <td>0</td>\n",
       "      <td>0</td>\n",
       "      <td>0</td>\n",
       "      <td>0</td>\n",
       "      <td>0</td>\n",
       "      <td>0</td>\n",
       "      <td>...</td>\n",
       "      <td>0</td>\n",
       "      <td>0</td>\n",
       "      <td>0</td>\n",
       "      <td>0</td>\n",
       "      <td>0</td>\n",
       "      <td>0</td>\n",
       "      <td>0</td>\n",
       "      <td>0</td>\n",
       "      <td>0</td>\n",
       "      <td>0</td>\n",
       "    </tr>\n",
       "    <tr>\n",
       "      <th>4</th>\n",
       "      <td>9</td>\n",
       "      <td>0</td>\n",
       "      <td>0</td>\n",
       "      <td>0</td>\n",
       "      <td>0</td>\n",
       "      <td>0</td>\n",
       "      <td>0</td>\n",
       "      <td>0</td>\n",
       "      <td>0</td>\n",
       "      <td>0</td>\n",
       "      <td>...</td>\n",
       "      <td>0</td>\n",
       "      <td>0</td>\n",
       "      <td>0</td>\n",
       "      <td>0</td>\n",
       "      <td>0</td>\n",
       "      <td>0</td>\n",
       "      <td>0</td>\n",
       "      <td>0</td>\n",
       "      <td>0</td>\n",
       "      <td>0</td>\n",
       "    </tr>\n",
       "  </tbody>\n",
       "</table>\n",
       "<p>5 rows × 785 columns</p>\n",
       "</div>"
      ],
      "text/plain": [
       "   0    1    2    3    4    5    6    7    8    9    ...  775  776  777  778  \\\n",
       "0    5    0    0    0    0    0    0    0    0    0  ...    0    0    0    0   \n",
       "1    0    0    0    0    0    0    0    0    0    0  ...    0    0    0    0   \n",
       "2    4    0    0    0    0    0    0    0    0    0  ...    0    0    0    0   \n",
       "3    1    0    0    0    0    0    0    0    0    0  ...    0    0    0    0   \n",
       "4    9    0    0    0    0    0    0    0    0    0  ...    0    0    0    0   \n",
       "\n",
       "   779  780  781  782  783  784  \n",
       "0    0    0    0    0    0    0  \n",
       "1    0    0    0    0    0    0  \n",
       "2    0    0    0    0    0    0  \n",
       "3    0    0    0    0    0    0  \n",
       "4    0    0    0    0    0    0  \n",
       "\n",
       "[5 rows x 785 columns]"
      ]
     },
     "execution_count": 2,
     "metadata": {},
     "output_type": "execute_result"
    }
   ],
   "source": [
    "train_df = pd.read_csv('./mnist_train.csv', header = None)\n",
    "train_df.head()"
   ]
  },
  {
   "cell_type": "code",
   "execution_count": 3,
   "metadata": {
    "_cell_guid": "79c7e3d0-c299-4dcb-8224-4455121ee9b0",
    "_uuid": "d629ff2d2480ee46fbb7e2d37f6b5fab8052498a",
    "execution": {
     "iopub.execute_input": "2021-11-08T06:27:34.359596Z",
     "iopub.status.busy": "2021-11-08T06:27:34.359194Z",
     "iopub.status.idle": "2021-11-08T06:27:36.447351Z",
     "shell.execute_reply": "2021-11-08T06:27:36.446577Z",
     "shell.execute_reply.started": "2021-11-08T06:27:34.359530Z"
    }
   },
   "outputs": [
    {
     "data": {
      "text/html": [
       "<div>\n",
       "<style scoped>\n",
       "    .dataframe tbody tr th:only-of-type {\n",
       "        vertical-align: middle;\n",
       "    }\n",
       "\n",
       "    .dataframe tbody tr th {\n",
       "        vertical-align: top;\n",
       "    }\n",
       "\n",
       "    .dataframe thead th {\n",
       "        text-align: right;\n",
       "    }\n",
       "</style>\n",
       "<table border=\"1\" class=\"dataframe\">\n",
       "  <thead>\n",
       "    <tr style=\"text-align: right;\">\n",
       "      <th></th>\n",
       "      <th>0</th>\n",
       "      <th>1</th>\n",
       "      <th>2</th>\n",
       "      <th>3</th>\n",
       "      <th>4</th>\n",
       "      <th>5</th>\n",
       "      <th>6</th>\n",
       "      <th>7</th>\n",
       "      <th>8</th>\n",
       "      <th>9</th>\n",
       "      <th>...</th>\n",
       "      <th>775</th>\n",
       "      <th>776</th>\n",
       "      <th>777</th>\n",
       "      <th>778</th>\n",
       "      <th>779</th>\n",
       "      <th>780</th>\n",
       "      <th>781</th>\n",
       "      <th>782</th>\n",
       "      <th>783</th>\n",
       "      <th>784</th>\n",
       "    </tr>\n",
       "  </thead>\n",
       "  <tbody>\n",
       "    <tr>\n",
       "      <th>0</th>\n",
       "      <td>7</td>\n",
       "      <td>0</td>\n",
       "      <td>0</td>\n",
       "      <td>0</td>\n",
       "      <td>0</td>\n",
       "      <td>0</td>\n",
       "      <td>0</td>\n",
       "      <td>0</td>\n",
       "      <td>0</td>\n",
       "      <td>0</td>\n",
       "      <td>...</td>\n",
       "      <td>0</td>\n",
       "      <td>0</td>\n",
       "      <td>0</td>\n",
       "      <td>0</td>\n",
       "      <td>0</td>\n",
       "      <td>0</td>\n",
       "      <td>0</td>\n",
       "      <td>0</td>\n",
       "      <td>0</td>\n",
       "      <td>0</td>\n",
       "    </tr>\n",
       "    <tr>\n",
       "      <th>1</th>\n",
       "      <td>2</td>\n",
       "      <td>0</td>\n",
       "      <td>0</td>\n",
       "      <td>0</td>\n",
       "      <td>0</td>\n",
       "      <td>0</td>\n",
       "      <td>0</td>\n",
       "      <td>0</td>\n",
       "      <td>0</td>\n",
       "      <td>0</td>\n",
       "      <td>...</td>\n",
       "      <td>0</td>\n",
       "      <td>0</td>\n",
       "      <td>0</td>\n",
       "      <td>0</td>\n",
       "      <td>0</td>\n",
       "      <td>0</td>\n",
       "      <td>0</td>\n",
       "      <td>0</td>\n",
       "      <td>0</td>\n",
       "      <td>0</td>\n",
       "    </tr>\n",
       "    <tr>\n",
       "      <th>2</th>\n",
       "      <td>1</td>\n",
       "      <td>0</td>\n",
       "      <td>0</td>\n",
       "      <td>0</td>\n",
       "      <td>0</td>\n",
       "      <td>0</td>\n",
       "      <td>0</td>\n",
       "      <td>0</td>\n",
       "      <td>0</td>\n",
       "      <td>0</td>\n",
       "      <td>...</td>\n",
       "      <td>0</td>\n",
       "      <td>0</td>\n",
       "      <td>0</td>\n",
       "      <td>0</td>\n",
       "      <td>0</td>\n",
       "      <td>0</td>\n",
       "      <td>0</td>\n",
       "      <td>0</td>\n",
       "      <td>0</td>\n",
       "      <td>0</td>\n",
       "    </tr>\n",
       "    <tr>\n",
       "      <th>3</th>\n",
       "      <td>0</td>\n",
       "      <td>0</td>\n",
       "      <td>0</td>\n",
       "      <td>0</td>\n",
       "      <td>0</td>\n",
       "      <td>0</td>\n",
       "      <td>0</td>\n",
       "      <td>0</td>\n",
       "      <td>0</td>\n",
       "      <td>0</td>\n",
       "      <td>...</td>\n",
       "      <td>0</td>\n",
       "      <td>0</td>\n",
       "      <td>0</td>\n",
       "      <td>0</td>\n",
       "      <td>0</td>\n",
       "      <td>0</td>\n",
       "      <td>0</td>\n",
       "      <td>0</td>\n",
       "      <td>0</td>\n",
       "      <td>0</td>\n",
       "    </tr>\n",
       "    <tr>\n",
       "      <th>4</th>\n",
       "      <td>4</td>\n",
       "      <td>0</td>\n",
       "      <td>0</td>\n",
       "      <td>0</td>\n",
       "      <td>0</td>\n",
       "      <td>0</td>\n",
       "      <td>0</td>\n",
       "      <td>0</td>\n",
       "      <td>0</td>\n",
       "      <td>0</td>\n",
       "      <td>...</td>\n",
       "      <td>0</td>\n",
       "      <td>0</td>\n",
       "      <td>0</td>\n",
       "      <td>0</td>\n",
       "      <td>0</td>\n",
       "      <td>0</td>\n",
       "      <td>0</td>\n",
       "      <td>0</td>\n",
       "      <td>0</td>\n",
       "      <td>0</td>\n",
       "    </tr>\n",
       "  </tbody>\n",
       "</table>\n",
       "<p>5 rows × 785 columns</p>\n",
       "</div>"
      ],
      "text/plain": [
       "   0    1    2    3    4    5    6    7    8    9    ...  775  776  777  778  \\\n",
       "0    7    0    0    0    0    0    0    0    0    0  ...    0    0    0    0   \n",
       "1    2    0    0    0    0    0    0    0    0    0  ...    0    0    0    0   \n",
       "2    1    0    0    0    0    0    0    0    0    0  ...    0    0    0    0   \n",
       "3    0    0    0    0    0    0    0    0    0    0  ...    0    0    0    0   \n",
       "4    4    0    0    0    0    0    0    0    0    0  ...    0    0    0    0   \n",
       "\n",
       "   779  780  781  782  783  784  \n",
       "0    0    0    0    0    0    0  \n",
       "1    0    0    0    0    0    0  \n",
       "2    0    0    0    0    0    0  \n",
       "3    0    0    0    0    0    0  \n",
       "4    0    0    0    0    0    0  \n",
       "\n",
       "[5 rows x 785 columns]"
      ]
     },
     "execution_count": 3,
     "metadata": {},
     "output_type": "execute_result"
    }
   ],
   "source": [
    "test_df = pd.read_csv('./mnist_test.csv', header = None)\n",
    "test_df.head()"
   ]
  },
  {
   "cell_type": "code",
   "execution_count": 4,
   "metadata": {
    "execution": {
     "iopub.execute_input": "2021-11-08T06:27:36.449513Z",
     "iopub.status.busy": "2021-11-08T06:27:36.449069Z",
     "iopub.status.idle": "2021-11-08T06:27:36.456279Z",
     "shell.execute_reply": "2021-11-08T06:27:36.455429Z",
     "shell.execute_reply.started": "2021-11-08T06:27:36.449341Z"
    }
   },
   "outputs": [
    {
     "data": {
      "text/plain": [
       "(60000, 785)"
      ]
     },
     "execution_count": 4,
     "metadata": {},
     "output_type": "execute_result"
    }
   ],
   "source": [
    "train_df.shape"
   ]
  },
  {
   "cell_type": "code",
   "execution_count": 5,
   "metadata": {
    "execution": {
     "iopub.execute_input": "2021-11-08T06:27:48.245145Z",
     "iopub.status.busy": "2021-11-08T06:27:48.244856Z",
     "iopub.status.idle": "2021-11-08T06:27:48.330256Z",
     "shell.execute_reply": "2021-11-08T06:27:48.329556Z",
     "shell.execute_reply.started": "2021-11-08T06:27:48.245098Z"
    }
   },
   "outputs": [],
   "source": [
    "X_train = train_df.drop([0], axis=1)\n",
    "y_train = train_df[0]"
   ]
  },
  {
   "cell_type": "code",
   "execution_count": 6,
   "metadata": {},
   "outputs": [],
   "source": [
    "X_test = test_df.drop([0], axis=1)\n",
    "y_test = test_df[0]"
   ]
  },
  {
   "cell_type": "code",
   "execution_count": 7,
   "metadata": {
    "execution": {
     "iopub.execute_input": "2021-11-08T06:27:53.026521Z",
     "iopub.status.busy": "2021-11-08T06:27:53.026216Z",
     "iopub.status.idle": "2021-11-08T06:27:53.031302Z",
     "shell.execute_reply": "2021-11-08T06:27:53.030364Z",
     "shell.execute_reply.started": "2021-11-08T06:27:53.026474Z"
    }
   },
   "outputs": [
    {
     "data": {
      "text/plain": [
       "(60000, 784)"
      ]
     },
     "execution_count": 7,
     "metadata": {},
     "output_type": "execute_result"
    }
   ],
   "source": [
    "X_train.shape"
   ]
  },
  {
   "cell_type": "code",
   "execution_count": 8,
   "metadata": {
    "execution": {
     "iopub.execute_input": "2021-11-08T06:28:05.999923Z",
     "iopub.status.busy": "2021-11-08T06:28:05.999645Z",
     "iopub.status.idle": "2021-11-08T06:28:07.315160Z",
     "shell.execute_reply": "2021-11-08T06:28:07.314467Z",
     "shell.execute_reply.started": "2021-11-08T06:28:05.999878Z"
    }
   },
   "outputs": [],
   "source": [
    "# Normalize the data\n",
    "X_train = X_train / 255.0\n",
    "X_test = X_test / 255.0"
   ]
  },
  {
   "cell_type": "code",
   "execution_count": 9,
   "metadata": {
    "execution": {
     "iopub.execute_input": "2021-11-08T06:28:13.859510Z",
     "iopub.status.busy": "2021-11-08T06:28:13.859174Z",
     "iopub.status.idle": "2021-11-08T06:28:13.866011Z",
     "shell.execute_reply": "2021-11-08T06:28:13.864181Z",
     "shell.execute_reply.started": "2021-11-08T06:28:13.859453Z"
    }
   },
   "outputs": [],
   "source": [
    "X_train = X_train.values.reshape(-1,28,28,1)\n",
    "X_test = X_test.values.reshape(-1,28,28,1)"
   ]
  },
  {
   "cell_type": "code",
   "execution_count": 10,
   "metadata": {
    "execution": {
     "iopub.execute_input": "2021-11-08T06:32:07.840219Z",
     "iopub.status.busy": "2021-11-08T06:32:07.839662Z",
     "iopub.status.idle": "2021-11-08T06:32:08.088465Z",
     "shell.execute_reply": "2021-11-08T06:32:08.087599Z",
     "shell.execute_reply.started": "2021-11-08T06:32:07.839983Z"
    }
   },
   "outputs": [
    {
     "data": {
      "text/plain": [
       "<matplotlib.image.AxesImage at 0x27681d3e970>"
      ]
     },
     "execution_count": 10,
     "metadata": {},
     "output_type": "execute_result"
    },
    {
     "data": {
      "image/png": "[encoded data removed]",
      "text/plain": [
       "<Figure size 432x288 with 1 Axes>"
      ]
     },
     "metadata": {
      "needs_background": "light"
     },
     "output_type": "display_data"
    }
   ],
   "source": [
    "import matplotlib.pyplot as plt\n",
    "%matplotlib inline\n",
    "\n",
    "plt.imshow(X_train[0][:,:,0])"
   ]
  },
  {
   "cell_type": "code",
   "execution_count": 11,
   "metadata": {
    "execution": {
     "iopub.execute_input": "2021-11-08T06:59:30.186977Z",
     "iopub.status.busy": "2021-11-08T06:59:30.186693Z",
     "iopub.status.idle": "2021-11-08T06:59:30.191491Z",
     "shell.execute_reply": "2021-11-08T06:59:30.190455Z",
     "shell.execute_reply.started": "2021-11-08T06:59:30.186929Z"
    }
   },
   "outputs": [],
   "source": [
    "from sklearn import metrics\n",
    "import matplotlib.pyplot as plt\n",
    "import numpy as np\n",
    "import tensorflow as tf"
   ]
  },
  {
   "cell_type": "code",
   "execution_count": 12,
   "metadata": {
    "execution": {
     "iopub.execute_input": "2021-11-08T06:52:52.631730Z",
     "iopub.status.busy": "2021-11-08T06:52:52.631425Z",
     "iopub.status.idle": "2021-11-08T06:52:52.646796Z",
     "shell.execute_reply": "2021-11-08T06:52:52.646118Z",
     "shell.execute_reply.started": "2021-11-08T06:52:52.631681Z"
    }
   },
   "outputs": [],
   "source": [
    "y_train=tf.keras.utils.to_categorical(y_train,10)\n",
    "y_test=tf.keras.utils.to_categorical(y_test,10)"
   ]
  },
  {
   "cell_type": "code",
   "execution_count": 13,
   "metadata": {
    "execution": {
     "iopub.execute_input": "2021-11-08T06:41:11.338245Z",
     "iopub.status.busy": "2021-11-08T06:41:11.337953Z",
     "iopub.status.idle": "2021-11-08T06:41:11.382875Z",
     "shell.execute_reply": "2021-11-08T06:41:11.382137Z",
     "shell.execute_reply.started": "2021-11-08T06:41:11.338197Z"
    }
   },
   "outputs": [],
   "source": [
    "input_size = 784\n",
    "output_size = 10\n",
    "hidden_layer_size = 200\n",
    "\n",
    "number_of_neurons = [ [200,200,300],\n",
    "                      [400,200,300],\n",
    "                      [500,200,200], \n",
    "                      [300,400,600],\n",
    "                      [600,500,400] ]"
   ]
  },
  {
   "cell_type": "code",
   "execution_count": 14,
   "metadata": {
    "execution": {
     "iopub.execute_input": "2021-11-08T06:41:11.338245Z",
     "iopub.status.busy": "2021-11-08T06:41:11.337953Z",
     "iopub.status.idle": "2021-11-08T06:41:11.382875Z",
     "shell.execute_reply": "2021-11-08T06:41:11.382137Z",
     "shell.execute_reply.started": "2021-11-08T06:41:11.338197Z"
    }
   },
   "outputs": [
    {
     "name": "stdout",
     "output_type": "stream",
     "text": [
      "Model: \"sequential\"\n",
      "_________________________________________________________________\n",
      " Layer (type)                Output Shape              Param #   \n",
      "=================================================================\n",
      " flatten (Flatten)           (None, 784)               0         \n",
      "                                                                 \n",
      " dense (Dense)               (None, 200)               157000    \n",
      "                                                                 \n",
      " dense_1 (Dense)             (None, 200)               40200     \n",
      "                                                                 \n",
      " dense_2 (Dense)             (None, 300)               60300     \n",
      "                                                                 \n",
      " dense_3 (Dense)             (None, 10)                3010      \n",
      "                                                                 \n",
      "=================================================================\n",
      "Total params: 260,510\n",
      "Trainable params: 260,510\n",
      "Non-trainable params: 0\n",
      "_________________________________________________________________\n",
      "[[ 970    1    0    0    1    0    3    1    4    0]\n",
      " [   0 1123    3    2    0    1    2    1    3    0]\n",
      " [   1    2 1008    3    2    0    1    7    8    0]\n",
      " [   0    0    4  986    0    5    0    4    6    5]\n",
      " [   1    0    4    0  962    0    2    1    1   11]\n",
      " [   1    0    0   10    1  865    5    2    6    2]\n",
      " [   4    4    1    1    4    6  936    0    2    0]\n",
      " [   0    4    6    4    1    0    0 1005    3    5]\n",
      " [   3    0    3    4    3    2    4    4  947    4]\n",
      " [   2    2    0    6    8    1    0    4    3  983]]\n",
      "Accuracy: 0.9785\n",
      "F1 score: 0.9783522667631722\n",
      "Recall: 0.9782742507192216\n",
      "Precision: 0.9784471325726326\n",
      "\n",
      "\n",
      "\n",
      "\n",
      "Model: \"sequential_1\"\n",
      "_________________________________________________________________\n",
      " Layer (type)                Output Shape              Param #   \n",
      "=================================================================\n",
      " flatten_1 (Flatten)         (None, 784)               0         \n",
      "                                                                 \n",
      " dense_4 (Dense)             (None, 400)               314000    \n",
      "                                                                 \n",
      " dense_5 (Dense)             (None, 200)               80200     \n",
      "                                                                 \n",
      " dense_6 (Dense)             (None, 300)               60300     \n",
      "                                                                 \n",
      " dense_7 (Dense)             (None, 10)                3010      \n",
      "                                                                 \n",
      "=================================================================\n",
      "Total params: 457,510\n",
      "Trainable params: 457,510\n",
      "Non-trainable params: 0\n",
      "_________________________________________________________________\n",
      "[[ 970    0    0    1    0    2    3    1    3    0]\n",
      " [   0 1126    4    0    0    1    2    1    1    0]\n",
      " [   3    1 1011    2    1    0    2    7    4    1]\n",
      " [   2    1    5  990    0    4    0    2    4    2]\n",
      " [   1    0    3    1  964    0    3    0    1    9]\n",
      " [   2    0    0    9    2  873    3    0    2    1]\n",
      " [   5    2    3    1    5    7  933    1    1    0]\n",
      " [   0    3   10    2    0    0    0 1005    3    5]\n",
      " [   3    1    4    5    1    2    1    2  951    4]\n",
      " [   2    3    0    1    7    5    0    1    3  987]]\n",
      "Accuracy: 0.981\n",
      "F1 score: 0.9808397705613527\n",
      "Recall: 0.9808197894807801\n",
      "Precision: 0.9808762926539447\n",
      "\n",
      "\n",
      "\n",
      "\n",
      "Model: \"sequential_2\"\n",
      "_________________________________________________________________\n",
      " Layer (type)                Output Shape              Param #   \n",
      "=================================================================\n",
      " flatten_2 (Flatten)         (None, 784)               0         \n",
      "                                                                 \n",
      " dense_8 (Dense)             (None, 500)               392500    \n",
      "                                                                 \n",
      " dense_9 (Dense)             (None, 200)               100200    \n",
      "                                                                 \n",
      " dense_10 (Dense)            (None, 200)               40200     \n",
      "                                                                 \n",
      " dense_11 (Dense)            (None, 10)                2010      \n",
      "                                                                 \n",
      "=================================================================\n",
      "Total params: 534,910\n",
      "Trainable params: 534,910\n",
      "Non-trainable params: 0\n",
      "_________________________________________________________________\n",
      "[[ 973    0    0    1    0    0    2    1    3    0]\n",
      " [   0 1125    4    0    0    1    3    1    1    0]\n",
      " [   3    1 1012    3    1    0    2    4    5    1]\n",
      " [   0    0    5  992    0    3    0    1    4    5]\n",
      " [   1    1    4    1  959    0    3    2    1   10]\n",
      " [   2    0    0   11    1  868    3    1    3    3]\n",
      " [   4    3    1    1    4    3  941    0    1    0]\n",
      " [   0    2    6    3    0    0    0 1010    2    5]\n",
      " [   6    0    3    4    2    2    1    3  949    4]\n",
      " [   3    2    0    3    5    3    0    5    2  986]]\n",
      "Accuracy: 0.9815\n",
      "F1 score: 0.9813631150533917\n",
      "Recall: 0.9812800296986977\n",
      "Precision: 0.9814740749239652\n",
      "\n",
      "\n",
      "\n",
      "\n",
      "Model: \"sequential_3\"\n",
      "_________________________________________________________________\n",
      " Layer (type)                Output Shape              Param #   \n",
      "=================================================================\n",
      " flatten_3 (Flatten)         (None, 784)               0         \n",
      "                                                                 \n",
      " dense_12 (Dense)            (None, 300)               235500    \n",
      "                                                                 \n",
      " dense_13 (Dense)            (None, 400)               120400    \n",
      "                                                                 \n",
      " dense_14 (Dense)            (None, 600)               240600    \n",
      "                                                                 \n",
      " dense_15 (Dense)            (None, 10)                6010      \n",
      "                                                                 \n",
      "=================================================================\n",
      "Total params: 602,510\n",
      "Trainable params: 602,510\n",
      "Non-trainable params: 0\n",
      "_________________________________________________________________\n",
      "[[ 972    0    1    0    0    0    2    1    4    0]\n",
      " [   0 1124    3    0    0    1    2    2    3    0]\n",
      " [   4    1 1010    2    3    0    2    4    4    2]\n",
      " [   0    0    1  995    0    3    0    4    4    3]\n",
      " [   2    1    6    0  955    0    3    2    1   12]\n",
      " [   3    0    1    8    1  867    3    1    6    2]\n",
      " [   3    3    2    0    7    6  936    0    1    0]\n",
      " [   0    4    8    0    0    0    0 1005    1   10]\n",
      " [   3    1    2    4    3    2    1    2  952    4]\n",
      " [   3    2    0    6    9    2    0    4    2  981]]\n",
      "Accuracy: 0.9797\n",
      "F1 score: 0.9795576520937601\n",
      "Recall: 0.9794778408937637\n",
      "Precision: 0.9796591049954431\n",
      "\n",
      "\n",
      "\n",
      "\n",
      "Model: \"sequential_4\"\n",
      "_________________________________________________________________\n",
      " Layer (type)                Output Shape              Param #   \n",
      "=================================================================\n",
      " flatten_4 (Flatten)         (None, 784)               0         \n",
      "                                                                 \n",
      " dense_16 (Dense)            (None, 600)               471000    \n",
      "                                                                 \n",
      " dense_17 (Dense)            (None, 500)               300500    \n",
      "                                                                 \n",
      " dense_18 (Dense)            (None, 400)               200400    \n",
      "                                                                 \n",
      " dense_19 (Dense)            (None, 10)                4010      \n",
      "                                                                 \n",
      "=================================================================\n",
      "Total params: 975,910\n",
      "Trainable params: 975,910\n",
      "Non-trainable params: 0\n",
      "_________________________________________________________________\n",
      "[[ 973    0    1    0    1    0    1    1    3    0]\n",
      " [   0 1127    2    1    0    1    1    1    2    0]\n",
      " [   4    1 1009    5    1    0    2    4    5    1]\n",
      " [   0    0    2  991    0    5    0    3    3    6]\n",
      " [   2    1    4    0  963    0    3    2    1    6]\n",
      " [   2    0    0   10    1  866    5    1    4    3]\n",
      " [   3    2    3    0    9    4  937    0    0    0]\n",
      " [   0    2    6    1    1    0    0 1009    3    6]\n",
      " [   2    0    3    5    4    4    2    2  949    3]\n",
      " [   3    2    0    5    7    3    0    4    1  984]]\n",
      "Accuracy: 0.9808\n",
      "F1 score: 0.9805905080671007\n",
      "Recall: 0.980536621451418\n",
      "Precision: 0.9806611799436153\n",
      "\n",
      "\n",
      "\n",
      "\n"
     ]
    }
   ],
   "source": [
    "idx = 0\n",
    "\n",
    "x = []\n",
    "y = []\n",
    "\n",
    "while idx < 5 :\n",
    "    \n",
    "    model = tf.keras.Sequential([\n",
    "                            tf.keras.layers.Flatten(input_shape=(28,28,1)),\n",
    "                            tf.keras.layers.Dense(number_of_neurons[idx][0], activation='relu'),\n",
    "                            tf.keras.layers.Dense(number_of_neurons[idx][1], activation='relu'),\n",
    "                            tf.keras.layers.Dense(number_of_neurons[idx][2], activation='relu'),   \n",
    "                            tf.keras.layers.Dense(output_size, activation='softmax')   \n",
    "                            ]) \n",
    "    \n",
    "    model.summary()\n",
    "    \n",
    "    model.compile(optimizer='adam', loss='categorical_crossentropy', metrics=['accuracy'])\n",
    "    \n",
    "    NUM_EPOCHS = 100\n",
    "\n",
    "    model.fit(X_train,y_train, batch_size=10000, epochs = NUM_EPOCHS, validation_data=(X_test,y_test), verbose=0)\n",
    "    \n",
    "    y_predict = model.predict(X_test)\n",
    "    \n",
    "    y_pred = []\n",
    "    \n",
    "    for val in y_predict:\n",
    "        y_pred.append(np.argmax(val))\n",
    "\n",
    "    accuracy = metrics.accuracy_score(np.argmax(y_test,axis = 1) ,y_pred)\n",
    "    recall = metrics.recall_score(np.argmax(y_test,axis = 1) ,y_pred,average='macro')\n",
    "    precision = metrics.precision_score(np.argmax(y_test,axis = 1) ,y_pred,average='macro')\n",
    "    f1_score = metrics.f1_score(np.argmax(y_test,axis = 1) ,y_pred,average='macro')\n",
    "    cm = metrics.confusion_matrix(np.argmax(y_test,axis = 1) ,y_pred)\n",
    "    print(cm)\n",
    "    print(\"Accuracy:\",accuracy)\n",
    "    print(\"F1 score:\",f1_score)\n",
    "    print(\"Recall:\",recall)\n",
    "    print(\"Precision:\",precision)\n",
    "    print(\"\\n\\n\\n\")\n",
    "    \n",
    "    x.append(sum(number_of_neurons[idx]))\n",
    "    y.append(accuracy)\n",
    "    \n",
    "    idx = idx + 1"
   ]
  },
  {
   "cell_type": "code",
   "execution_count": 15,
   "metadata": {
    "execution": {
     "iopub.execute_input": "2021-11-08T06:41:11.338245Z",
     "iopub.status.busy": "2021-11-08T06:41:11.337953Z",
     "iopub.status.idle": "2021-11-08T06:41:11.382875Z",
     "shell.execute_reply": "2021-11-08T06:41:11.382137Z",
     "shell.execute_reply.started": "2021-11-08T06:41:11.338197Z"
    }
   },
   "outputs": [
    {
     "name": "stdout",
     "output_type": "stream",
     "text": [
      "[700, 900, 900, 1300, 1500]\n"
     ]
    }
   ],
   "source": [
    "print(x)"
   ]
  },
  {
   "cell_type": "code",
   "execution_count": 18,
   "metadata": {
    "execution": {
     "iopub.execute_input": "2021-11-08T06:41:16.433173Z",
     "iopub.status.busy": "2021-11-08T06:41:16.432872Z",
     "iopub.status.idle": "2021-11-08T06:41:16.442124Z",
     "shell.execute_reply": "2021-11-08T06:41:16.441049Z",
     "shell.execute_reply.started": "2021-11-08T06:41:16.433121Z"
    }
   },
   "outputs": [
    {
     "name": "stdout",
     "output_type": "stream",
     "text": [
      "[0.9785, 0.981, 0.9815, 0.9797, 0.9808]\n"
     ]
    }
   ],
   "source": [
    "print(y)"
   ]
  },
  {
   "cell_type": "code",
   "execution_count": 17,
   "metadata": {
    "execution": {
     "iopub.execute_input": "2021-11-08T06:41:16.433173Z",
     "iopub.status.busy": "2021-11-08T06:41:16.432872Z",
     "iopub.status.idle": "2021-11-08T06:41:16.442124Z",
     "shell.execute_reply": "2021-11-08T06:41:16.441049Z",
     "shell.execute_reply.started": "2021-11-08T06:41:16.433121Z"
    }
   },
   "outputs": [
    {
     "data": {
      "image/png": "[encoded data removed]",
      "text/plain": [
       "<Figure size 432x288 with 1 Axes>"
      ]
     },
     "metadata": {
      "needs_background": "light"
     },
     "output_type": "display_data"
    }
   ],
   "source": [
    "import matplotlib.pyplot as plt\n",
    "# Plot the graph of error vs learning rate\n",
    "plt.plot(x, y)\n",
    "plt.xlabel('Number of neurons in the hidden layer')\n",
    "plt.ylabel('Accuracy')\n",
    "plt.show()"
   ]
  }
 ],
 "metadata": {
  "kernelspec": {
   "display_name": "Python 3 (ipykernel)",
   "language": "python",
   "name": "python3"
  },
  "language_info": {
   "codemirror_mode": {
    "name": "ipython",
    "version": 3
   },
   "file_extension": ".py",
   "mimetype": "text/x-python",
   "name": "python",
   "nbconvert_exporter": "python",
   "pygments_lexer": "ipython3",
   "version": "3.9.6"
  }
 },
 "nbformat": 4,
 "nbformat_minor": 4
}
